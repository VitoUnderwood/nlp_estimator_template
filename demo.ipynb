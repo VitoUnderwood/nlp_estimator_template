{
 "cells": [
  {
   "cell_type": "code",
   "execution_count": 16,
   "outputs": [],
   "source": [
    "import tensorflow as tf\n",
    "tf.enable_eager_execution()"
   ],
   "metadata": {
    "collapsed": false,
    "pycharm": {
     "name": "#%%\n"
    }
   }
  },
  {
   "cell_type": "code",
   "execution_count": 17,
   "outputs": [],
   "source": [
    "dataset = tf.data.TextLineDataset(\"data/train.txt\")"
   ],
   "metadata": {
    "collapsed": false,
    "pycharm": {
     "name": "#%%\n"
    }
   }
  },
  {
   "cell_type": "code",
   "execution_count": 22,
   "outputs": [
    {
     "name": "stdout",
     "output_type": "stream",
     "text": [
      "sadklfjasldfj\n",
      "asdlfjal\n",
      "asdflkjasd\n",
      "dfalsdfasdf\n"
     ]
    }
   ],
   "source": [
    "for ex in dataset.take(10):\n",
    "  print(str(ex.numpy().decode(\"utf-8\")))"
   ],
   "metadata": {
    "collapsed": false,
    "pycharm": {
     "name": "#%%\n"
    }
   }
  },
  {
   "cell_type": "code",
   "execution_count": 15,
   "outputs": [],
   "source": [
    "for i, _ in enumerate(dataset):\n",
    "    pass\n",
    "n_lines = i + 1"
   ],
   "metadata": {
    "collapsed": false,
    "pycharm": {
     "name": "#%%\n"
    }
   }
  },
  {
   "cell_type": "code",
   "execution_count": null,
   "outputs": [],
   "source": [
    "n_lines\n"
   ],
   "metadata": {
    "collapsed": false,
    "pycharm": {
     "name": "#%%\n"
    }
   }
  },
  {
   "cell_type": "code",
   "execution_count": 25,
   "outputs": [],
   "source": [
    "import tensorflow as tf\n",
    "import numpy as np\n",
    "components = np.arange(100).astype(np.int64)\n",
    "dataset = tf.data.Dataset.from_tensor_slices(components)\n",
    "dataset = dataset.apply(tf.contrib.data.group_by_window(key_func=lambda x: x%2, reduce_func=lambda _, els: els.batch(10), window_size=100))\n",
    " # array([ 0,  2,  4,  6,  8, 10, 12, 14, 16, 18], dtype=int64)"
   ],
   "metadata": {
    "collapsed": false,
    "pycharm": {
     "name": "#%%\n"
    }
   }
  },
  {
   "cell_type": "code",
   "execution_count": 26,
   "outputs": [
    {
     "ename": "RuntimeError",
     "evalue": "The Session graph is empty.  Add operations to the graph before calling run().",
     "output_type": "error",
     "traceback": [
      "\u001B[0;31m---------------------------------------------------------------------------\u001B[0m",
      "\u001B[0;31mRuntimeError\u001B[0m                              Traceback (most recent call last)",
      "\u001B[0;32m<ipython-input-26-97f63deb47ff>\u001B[0m in \u001B[0;36m<module>\u001B[0;34m\u001B[0m\n\u001B[1;32m      2\u001B[0m \u001B[0mfeatures\u001B[0m \u001B[0;34m=\u001B[0m \u001B[0miterator\u001B[0m\u001B[0;34m.\u001B[0m\u001B[0mget_next\u001B[0m\u001B[0;34m(\u001B[0m\u001B[0;34m)\u001B[0m\u001B[0;34m\u001B[0m\u001B[0;34m\u001B[0m\u001B[0m\n\u001B[1;32m      3\u001B[0m \u001B[0msess\u001B[0m \u001B[0;34m=\u001B[0m \u001B[0mtf\u001B[0m\u001B[0;34m.\u001B[0m\u001B[0mSession\u001B[0m\u001B[0;34m(\u001B[0m\u001B[0;34m)\u001B[0m\u001B[0;34m\u001B[0m\u001B[0;34m\u001B[0m\u001B[0m\n\u001B[0;32m----> 4\u001B[0;31m \u001B[0msess\u001B[0m\u001B[0;34m.\u001B[0m\u001B[0mrun\u001B[0m\u001B[0;34m(\u001B[0m\u001B[0mfeatures\u001B[0m\u001B[0;34m)\u001B[0m\u001B[0;34m\u001B[0m\u001B[0;34m\u001B[0m\u001B[0m\n\u001B[0m\u001B[1;32m      5\u001B[0m \u001B[0;34m\u001B[0m\u001B[0m\n",
      "\u001B[0;32m~/opt/anaconda3/envs/tf115/lib/python3.6/site-packages/tensorflow_core/python/client/session.py\u001B[0m in \u001B[0;36mrun\u001B[0;34m(self, fetches, feed_dict, options, run_metadata)\u001B[0m\n\u001B[1;32m    954\u001B[0m     \u001B[0;32mtry\u001B[0m\u001B[0;34m:\u001B[0m\u001B[0;34m\u001B[0m\u001B[0;34m\u001B[0m\u001B[0m\n\u001B[1;32m    955\u001B[0m       result = self._run(None, fetches, feed_dict, options_ptr,\n\u001B[0;32m--> 956\u001B[0;31m                          run_metadata_ptr)\n\u001B[0m\u001B[1;32m    957\u001B[0m       \u001B[0;32mif\u001B[0m \u001B[0mrun_metadata\u001B[0m\u001B[0;34m:\u001B[0m\u001B[0;34m\u001B[0m\u001B[0;34m\u001B[0m\u001B[0m\n\u001B[1;32m    958\u001B[0m         \u001B[0mproto_data\u001B[0m \u001B[0;34m=\u001B[0m \u001B[0mtf_session\u001B[0m\u001B[0;34m.\u001B[0m\u001B[0mTF_GetBuffer\u001B[0m\u001B[0;34m(\u001B[0m\u001B[0mrun_metadata_ptr\u001B[0m\u001B[0;34m)\u001B[0m\u001B[0;34m\u001B[0m\u001B[0;34m\u001B[0m\u001B[0m\n",
      "\u001B[0;32m~/opt/anaconda3/envs/tf115/lib/python3.6/site-packages/tensorflow_core/python/client/session.py\u001B[0m in \u001B[0;36m_run\u001B[0;34m(self, handle, fetches, feed_dict, options, run_metadata)\u001B[0m\n\u001B[1;32m   1103\u001B[0m       \u001B[0;32mraise\u001B[0m \u001B[0mRuntimeError\u001B[0m\u001B[0;34m(\u001B[0m\u001B[0;34m'Attempted to use a closed Session.'\u001B[0m\u001B[0;34m)\u001B[0m\u001B[0;34m\u001B[0m\u001B[0;34m\u001B[0m\u001B[0m\n\u001B[1;32m   1104\u001B[0m     \u001B[0;32mif\u001B[0m \u001B[0mself\u001B[0m\u001B[0;34m.\u001B[0m\u001B[0mgraph\u001B[0m\u001B[0;34m.\u001B[0m\u001B[0mversion\u001B[0m \u001B[0;34m==\u001B[0m \u001B[0;36m0\u001B[0m\u001B[0;34m:\u001B[0m\u001B[0;34m\u001B[0m\u001B[0;34m\u001B[0m\u001B[0m\n\u001B[0;32m-> 1105\u001B[0;31m       raise RuntimeError('The Session graph is empty.  Add operations to the '\n\u001B[0m\u001B[1;32m   1106\u001B[0m                          'graph before calling run().')\n\u001B[1;32m   1107\u001B[0m \u001B[0;34m\u001B[0m\u001B[0m\n",
      "\u001B[0;31mRuntimeError\u001B[0m: The Session graph is empty.  Add operations to the graph before calling run()."
     ]
    }
   ],
   "source": [
    "iterator = dataset.make_one_shot_iterator()\n",
    "features = iterator.get_next()\n",
    "sess = tf.Session()\n",
    "sess.run(features)"
   ],
   "metadata": {
    "collapsed": false,
    "pycharm": {
     "name": "#%%\n"
    }
   }
  },
  {
   "cell_type": "code",
   "execution_count": 31,
   "outputs": [
    {
     "name": "stdout",
     "output_type": "stream",
     "text": [
      "tf.Tensor([ 0  2  4  6  8 10 12 14 16 18], shape=(10,), dtype=int64)\n",
      "tf.Tensor([20 22 24 26 28 30 32 34 36 38], shape=(10,), dtype=int64)\n",
      "tf.Tensor([40 42 44 46 48 50 52 54 56 58], shape=(10,), dtype=int64)\n",
      "tf.Tensor([60 62 64 66 68 70 72 74 76 78], shape=(10,), dtype=int64)\n",
      "tf.Tensor([80 82 84 86 88 90 92 94 96 98], shape=(10,), dtype=int64)\n",
      "tf.Tensor([ 1  3  5  7  9 11 13 15 17 19], shape=(10,), dtype=int64)\n",
      "tf.Tensor([21 23 25 27 29 31 33 35 37 39], shape=(10,), dtype=int64)\n",
      "tf.Tensor([41 43 45 47 49 51 53 55 57 59], shape=(10,), dtype=int64)\n",
      "tf.Tensor([61 63 65 67 69 71 73 75 77 79], shape=(10,), dtype=int64)\n",
      "tf.Tensor([81 83 85 87 89 91 93 95 97 99], shape=(10,), dtype=int64)\n"
     ]
    }
   ],
   "source": [
    "for ex in dataset.take(50):\n",
    "    print(ex)"
   ],
   "metadata": {
    "collapsed": false,
    "pycharm": {
     "name": "#%%\n"
    }
   }
  },
  {
   "cell_type": "code",
   "execution_count": 38,
   "outputs": [
    {
     "ename": "NotFoundError",
     "evalue": "Op type not registered 'RegexSplitWithOffsets' in binary running on vitodeMacBook-Pro.local. Make sure the Op and Kernel are registered in the binary running in this process. Note that if you are loading a saved graph which used ops from tf.contrib, accessing (e.g.) `tf.contrib.resampler` should be done before importing the graph, as contrib ops are lazily registered when the module is first accessed.",
     "output_type": "error",
     "traceback": [
      "\u001B[0;31m---------------------------------------------------------------------------\u001B[0m",
      "\u001B[0;31mKeyError\u001B[0m                                  Traceback (most recent call last)",
      "\u001B[0;32m~/opt/anaconda3/envs/tf115/lib/python3.6/site-packages/tensorflow_core/python/framework/ops.py\u001B[0m in \u001B[0;36m_get_op_def\u001B[0;34m(self, type)\u001B[0m\n\u001B[1;32m   3816\u001B[0m     \u001B[0;32mtry\u001B[0m\u001B[0;34m:\u001B[0m\u001B[0;34m\u001B[0m\u001B[0;34m\u001B[0m\u001B[0m\n\u001B[0;32m-> 3817\u001B[0;31m       \u001B[0;32mreturn\u001B[0m \u001B[0mself\u001B[0m\u001B[0;34m.\u001B[0m\u001B[0m_op_def_cache\u001B[0m\u001B[0;34m[\u001B[0m\u001B[0mtype\u001B[0m\u001B[0;34m]\u001B[0m\u001B[0;34m\u001B[0m\u001B[0;34m\u001B[0m\u001B[0m\n\u001B[0m\u001B[1;32m   3818\u001B[0m     \u001B[0;32mexcept\u001B[0m \u001B[0mKeyError\u001B[0m\u001B[0;34m:\u001B[0m\u001B[0;34m\u001B[0m\u001B[0;34m\u001B[0m\u001B[0m\n",
      "\u001B[0;31mKeyError\u001B[0m: 'RegexSplitWithOffsets'",
      "\nDuring handling of the above exception, another exception occurred:\n",
      "\u001B[0;31mNotFoundError\u001B[0m                             Traceback (most recent call last)",
      "\u001B[0;32m<ipython-input-38-f990908523bb>\u001B[0m in \u001B[0;36m<module>\u001B[0;34m\u001B[0m\n\u001B[1;32m      1\u001B[0m \u001B[0;32mimport\u001B[0m \u001B[0mtensorflow_hub\u001B[0m \u001B[0;32mas\u001B[0m \u001B[0mhub\u001B[0m\u001B[0;34m\u001B[0m\u001B[0;34m\u001B[0m\u001B[0m\n\u001B[0;32m----> 2\u001B[0;31m \u001B[0mpreprocessor\u001B[0m \u001B[0;34m=\u001B[0m \u001B[0mhub\u001B[0m\u001B[0;34m.\u001B[0m\u001B[0mload\u001B[0m\u001B[0;34m(\u001B[0m\u001B[0;34m\"https://tfhub.dev/tensorflow/bert_zh_preprocess/3\"\u001B[0m\u001B[0;34m)\u001B[0m\u001B[0;34m\u001B[0m\u001B[0;34m\u001B[0m\u001B[0m\n\u001B[0m\u001B[1;32m      3\u001B[0m \u001B[0;31m# Step 1: tokenize batches of text inputs.\u001B[0m\u001B[0;34m\u001B[0m\u001B[0;34m\u001B[0m\u001B[0;34m\u001B[0m\u001B[0m\n\u001B[1;32m      4\u001B[0m text_inputs = [tf.keras.layers.Input(shape=(), dtype=tf.string),\n\u001B[1;32m      5\u001B[0m                ...] # This SavedModel accepts up to 2 text inputs.\n",
      "\u001B[0;32m~/opt/anaconda3/envs/tf115/lib/python3.6/site-packages/tensorflow_hub/module_v2.py\u001B[0m in \u001B[0;36mload\u001B[0;34m(handle, tags, options)\u001B[0m\n\u001B[1;32m    104\u001B[0m         module_path, tags=tags, options=options)\n\u001B[1;32m    105\u001B[0m   \u001B[0;32melse\u001B[0m\u001B[0;34m:\u001B[0m\u001B[0;34m\u001B[0m\u001B[0;34m\u001B[0m\u001B[0m\n\u001B[0;32m--> 106\u001B[0;31m     \u001B[0mobj\u001B[0m \u001B[0;34m=\u001B[0m \u001B[0mtf\u001B[0m\u001B[0;34m.\u001B[0m\u001B[0mcompat\u001B[0m\u001B[0;34m.\u001B[0m\u001B[0mv1\u001B[0m\u001B[0;34m.\u001B[0m\u001B[0msaved_model\u001B[0m\u001B[0;34m.\u001B[0m\u001B[0mload_v2\u001B[0m\u001B[0;34m(\u001B[0m\u001B[0mmodule_path\u001B[0m\u001B[0;34m,\u001B[0m \u001B[0mtags\u001B[0m\u001B[0;34m=\u001B[0m\u001B[0mtags\u001B[0m\u001B[0;34m)\u001B[0m\u001B[0;34m\u001B[0m\u001B[0;34m\u001B[0m\u001B[0m\n\u001B[0m\u001B[1;32m    107\u001B[0m   \u001B[0mobj\u001B[0m\u001B[0;34m.\u001B[0m\u001B[0m_is_hub_module_v1\u001B[0m \u001B[0;34m=\u001B[0m \u001B[0mis_hub_module_v1\u001B[0m  \u001B[0;31m# pylint: disable=protected-access\u001B[0m\u001B[0;34m\u001B[0m\u001B[0;34m\u001B[0m\u001B[0m\n\u001B[1;32m    108\u001B[0m   \u001B[0;32mreturn\u001B[0m \u001B[0mobj\u001B[0m\u001B[0;34m\u001B[0m\u001B[0;34m\u001B[0m\u001B[0m\n",
      "\u001B[0;32m~/opt/anaconda3/envs/tf115/lib/python3.6/site-packages/tensorflow_core/python/saved_model/load.py\u001B[0m in \u001B[0;36mload\u001B[0;34m(export_dir, tags)\u001B[0m\n\u001B[1;32m    517\u001B[0m     \u001B[0mValueError\u001B[0m\u001B[0;34m:\u001B[0m \u001B[0mIf\u001B[0m\u001B[0;31m \u001B[0m\u001B[0;31m`\u001B[0m\u001B[0mtags\u001B[0m\u001B[0;31m`\u001B[0m \u001B[0mdon\u001B[0m\u001B[0;31m'\u001B[0m\u001B[0mt\u001B[0m \u001B[0mmatch\u001B[0m \u001B[0ma\u001B[0m \u001B[0mMetaGraph\u001B[0m \u001B[0;32min\u001B[0m \u001B[0mthe\u001B[0m \u001B[0mSavedModel\u001B[0m\u001B[0;34m.\u001B[0m\u001B[0;34m\u001B[0m\u001B[0;34m\u001B[0m\u001B[0m\n\u001B[1;32m    518\u001B[0m   \"\"\"\n\u001B[0;32m--> 519\u001B[0;31m   \u001B[0;32mreturn\u001B[0m \u001B[0mload_internal\u001B[0m\u001B[0;34m(\u001B[0m\u001B[0mexport_dir\u001B[0m\u001B[0;34m,\u001B[0m \u001B[0mtags\u001B[0m\u001B[0;34m)\u001B[0m\u001B[0;34m\u001B[0m\u001B[0;34m\u001B[0m\u001B[0m\n\u001B[0m\u001B[1;32m    520\u001B[0m \u001B[0;34m\u001B[0m\u001B[0m\n\u001B[1;32m    521\u001B[0m \u001B[0;34m\u001B[0m\u001B[0m\n",
      "\u001B[0;32m~/opt/anaconda3/envs/tf115/lib/python3.6/site-packages/tensorflow_core/python/saved_model/load.py\u001B[0m in \u001B[0;36mload_internal\u001B[0;34m(export_dir, tags, loader_cls)\u001B[0m\n\u001B[1;32m    541\u001B[0m       loader = loader_cls(object_graph_proto,\n\u001B[1;32m    542\u001B[0m                           \u001B[0msaved_model_proto\u001B[0m\u001B[0;34m,\u001B[0m\u001B[0;34m\u001B[0m\u001B[0;34m\u001B[0m\u001B[0m\n\u001B[0;32m--> 543\u001B[0;31m                           export_dir)\n\u001B[0m\u001B[1;32m    544\u001B[0m       \u001B[0mroot\u001B[0m \u001B[0;34m=\u001B[0m \u001B[0mloader\u001B[0m\u001B[0;34m.\u001B[0m\u001B[0mget\u001B[0m\u001B[0;34m(\u001B[0m\u001B[0;36m0\u001B[0m\u001B[0;34m)\u001B[0m\u001B[0;34m\u001B[0m\u001B[0;34m\u001B[0m\u001B[0m\n\u001B[1;32m    545\u001B[0m     \u001B[0mroot\u001B[0m\u001B[0;34m.\u001B[0m\u001B[0mtensorflow_version\u001B[0m \u001B[0;34m=\u001B[0m \u001B[0mmeta_graph_def\u001B[0m\u001B[0;34m.\u001B[0m\u001B[0mmeta_info_def\u001B[0m\u001B[0;34m.\u001B[0m\u001B[0mtensorflow_version\u001B[0m\u001B[0;34m\u001B[0m\u001B[0;34m\u001B[0m\u001B[0m\n",
      "\u001B[0;32m~/opt/anaconda3/envs/tf115/lib/python3.6/site-packages/tensorflow_core/python/saved_model/load.py\u001B[0m in \u001B[0;36m__init__\u001B[0;34m(self, object_graph_proto, saved_model_proto, export_dir)\u001B[0m\n\u001B[1;32m    112\u001B[0m     self._concrete_functions = (\n\u001B[1;32m    113\u001B[0m         function_deserialization.load_function_def_library(\n\u001B[0;32m--> 114\u001B[0;31m             meta_graph.graph_def.library))\n\u001B[0m\u001B[1;32m    115\u001B[0m \u001B[0;34m\u001B[0m\u001B[0m\n\u001B[1;32m    116\u001B[0m     \u001B[0;32mfor\u001B[0m \u001B[0mname\u001B[0m\u001B[0;34m,\u001B[0m \u001B[0mconcrete_function\u001B[0m \u001B[0;32min\u001B[0m \u001B[0mself\u001B[0m\u001B[0;34m.\u001B[0m\u001B[0m_concrete_functions\u001B[0m\u001B[0;34m.\u001B[0m\u001B[0mitems\u001B[0m\u001B[0;34m(\u001B[0m\u001B[0;34m)\u001B[0m\u001B[0;34m:\u001B[0m\u001B[0;34m\u001B[0m\u001B[0;34m\u001B[0m\u001B[0m\n",
      "\u001B[0;32m~/opt/anaconda3/envs/tf115/lib/python3.6/site-packages/tensorflow_core/python/saved_model/function_deserialization.py\u001B[0m in \u001B[0;36mload_function_def_library\u001B[0;34m(library, load_shared_name_suffix)\u001B[0m\n\u001B[1;32m    310\u001B[0m     \u001B[0;31m# import).\u001B[0m\u001B[0;34m\u001B[0m\u001B[0;34m\u001B[0m\u001B[0;34m\u001B[0m\u001B[0m\n\u001B[1;32m    311\u001B[0m     func_graph = function_def_lib.function_def_to_graph(\n\u001B[0;32m--> 312\u001B[0;31m         copy, copy_functions=False)\n\u001B[0m\u001B[1;32m    313\u001B[0m \u001B[0;34m\u001B[0m\u001B[0m\n\u001B[1;32m    314\u001B[0m     \u001B[0;32mfor\u001B[0m \u001B[0mdep\u001B[0m \u001B[0;32min\u001B[0m \u001B[0m_list_function_deps\u001B[0m\u001B[0;34m(\u001B[0m\u001B[0mfdef\u001B[0m\u001B[0;34m,\u001B[0m \u001B[0mlibrary_function_names\u001B[0m\u001B[0;34m)\u001B[0m\u001B[0;34m:\u001B[0m\u001B[0;34m\u001B[0m\u001B[0;34m\u001B[0m\u001B[0m\n",
      "\u001B[0;32m~/opt/anaconda3/envs/tf115/lib/python3.6/site-packages/tensorflow_core/python/framework/function_def_to_graph.py\u001B[0m in \u001B[0;36mfunction_def_to_graph\u001B[0;34m(fdef, input_shapes, copy_functions)\u001B[0m\n\u001B[1;32m     59\u001B[0m       \u001B[0minput_shapes\u001B[0m \u001B[0;34m=\u001B[0m \u001B[0minput_shapes_attr\u001B[0m\u001B[0;34m.\u001B[0m\u001B[0mlist\u001B[0m\u001B[0;34m.\u001B[0m\u001B[0mshape\u001B[0m\u001B[0;34m\u001B[0m\u001B[0;34m\u001B[0m\u001B[0m\n\u001B[1;32m     60\u001B[0m   graph_def, nested_to_flat_tensor_name = function_def_to_graph_def(\n\u001B[0;32m---> 61\u001B[0;31m       fdef, input_shapes, copy_functions)\n\u001B[0m\u001B[1;32m     62\u001B[0m \u001B[0;34m\u001B[0m\u001B[0m\n\u001B[1;32m     63\u001B[0m   \u001B[0;32mwith\u001B[0m \u001B[0mfunc_graph\u001B[0m\u001B[0;34m.\u001B[0m\u001B[0mas_default\u001B[0m\u001B[0;34m(\u001B[0m\u001B[0;34m)\u001B[0m\u001B[0;34m:\u001B[0m\u001B[0;34m\u001B[0m\u001B[0;34m\u001B[0m\u001B[0m\n",
      "\u001B[0;32m~/opt/anaconda3/envs/tf115/lib/python3.6/site-packages/tensorflow_core/python/framework/function_def_to_graph.py\u001B[0m in \u001B[0;36mfunction_def_to_graph_def\u001B[0;34m(fdef, input_shapes, copy_functions)\u001B[0m\n\u001B[1;32m    212\u001B[0m         \u001B[0mcopied_functions\u001B[0m\u001B[0;34m.\u001B[0m\u001B[0madd\u001B[0m\u001B[0;34m(\u001B[0m\u001B[0mnode_def\u001B[0m\u001B[0;34m.\u001B[0m\u001B[0mop\u001B[0m\u001B[0;34m)\u001B[0m\u001B[0;34m\u001B[0m\u001B[0;34m\u001B[0m\u001B[0m\n\u001B[1;32m    213\u001B[0m     \u001B[0;32melse\u001B[0m\u001B[0;34m:\u001B[0m\u001B[0;34m\u001B[0m\u001B[0;34m\u001B[0m\u001B[0m\n\u001B[0;32m--> 214\u001B[0;31m       \u001B[0mop_def\u001B[0m \u001B[0;34m=\u001B[0m \u001B[0mops\u001B[0m\u001B[0;34m.\u001B[0m\u001B[0mget_default_graph\u001B[0m\u001B[0;34m(\u001B[0m\u001B[0;34m)\u001B[0m\u001B[0;34m.\u001B[0m\u001B[0m_get_op_def\u001B[0m\u001B[0;34m(\u001B[0m\u001B[0mnode_def\u001B[0m\u001B[0;34m.\u001B[0m\u001B[0mop\u001B[0m\u001B[0;34m)\u001B[0m  \u001B[0;31m# pylint: disable=protected-access\u001B[0m\u001B[0;34m\u001B[0m\u001B[0;34m\u001B[0m\u001B[0m\n\u001B[0m\u001B[1;32m    215\u001B[0m \u001B[0;34m\u001B[0m\u001B[0m\n\u001B[1;32m    216\u001B[0m     \u001B[0;32mfor\u001B[0m \u001B[0mattr\u001B[0m \u001B[0;32min\u001B[0m \u001B[0mop_def\u001B[0m\u001B[0;34m.\u001B[0m\u001B[0mattr\u001B[0m\u001B[0;34m:\u001B[0m\u001B[0;34m\u001B[0m\u001B[0;34m\u001B[0m\u001B[0m\n",
      "\u001B[0;32m~/opt/anaconda3/envs/tf115/lib/python3.6/site-packages/tensorflow_core/python/framework/ops.py\u001B[0m in \u001B[0;36m_get_op_def\u001B[0;34m(self, type)\u001B[0m\n\u001B[1;32m   3819\u001B[0m       \u001B[0;32mwith\u001B[0m \u001B[0mc_api_util\u001B[0m\u001B[0;34m.\u001B[0m\u001B[0mtf_buffer\u001B[0m\u001B[0;34m(\u001B[0m\u001B[0;34m)\u001B[0m \u001B[0;32mas\u001B[0m \u001B[0mbuf\u001B[0m\u001B[0;34m:\u001B[0m\u001B[0;34m\u001B[0m\u001B[0;34m\u001B[0m\u001B[0m\n\u001B[1;32m   3820\u001B[0m         \u001B[0;31m# pylint: disable=protected-access\u001B[0m\u001B[0;34m\u001B[0m\u001B[0;34m\u001B[0m\u001B[0;34m\u001B[0m\u001B[0m\n\u001B[0;32m-> 3821\u001B[0;31m         \u001B[0mc_api\u001B[0m\u001B[0;34m.\u001B[0m\u001B[0mTF_GraphGetOpDef\u001B[0m\u001B[0;34m(\u001B[0m\u001B[0mself\u001B[0m\u001B[0;34m.\u001B[0m\u001B[0m_c_graph\u001B[0m\u001B[0;34m,\u001B[0m \u001B[0mcompat\u001B[0m\u001B[0;34m.\u001B[0m\u001B[0mas_bytes\u001B[0m\u001B[0;34m(\u001B[0m\u001B[0mtype\u001B[0m\u001B[0;34m)\u001B[0m\u001B[0;34m,\u001B[0m \u001B[0mbuf\u001B[0m\u001B[0;34m)\u001B[0m\u001B[0;34m\u001B[0m\u001B[0;34m\u001B[0m\u001B[0m\n\u001B[0m\u001B[1;32m   3822\u001B[0m         \u001B[0;31m# pylint: enable=protected-access\u001B[0m\u001B[0;34m\u001B[0m\u001B[0;34m\u001B[0m\u001B[0;34m\u001B[0m\u001B[0m\n\u001B[1;32m   3823\u001B[0m         \u001B[0mdata\u001B[0m \u001B[0;34m=\u001B[0m \u001B[0mc_api\u001B[0m\u001B[0;34m.\u001B[0m\u001B[0mTF_GetBuffer\u001B[0m\u001B[0;34m(\u001B[0m\u001B[0mbuf\u001B[0m\u001B[0;34m)\u001B[0m\u001B[0;34m\u001B[0m\u001B[0;34m\u001B[0m\u001B[0m\n",
      "\u001B[0;31mNotFoundError\u001B[0m: Op type not registered 'RegexSplitWithOffsets' in binary running on vitodeMacBook-Pro.local. Make sure the Op and Kernel are registered in the binary running in this process. Note that if you are loading a saved graph which used ops from tf.contrib, accessing (e.g.) `tf.contrib.resampler` should be done before importing the graph, as contrib ops are lazily registered when the module is first accessed."
     ]
    }
   ],
   "source": [
    "import tensorflow_hub as hub\n",
    "preprocessor = hub.load(\"https://tfhub.dev/tensorflow/bert_zh_preprocess/3\")\n",
    "# Step 1: tokenize batches of text inputs.\n",
    "text_inputs = [tf.keras.layers.Input(shape=(), dtype=tf.string),\n",
    "               ...] # This SavedModel accepts up to 2 text inputs.\n",
    "tokenize = hub.KerasLayer(preprocessor.tokenize)\n",
    "tokenized_inputs = [tokenize(segment) for segment in text_inputs]"
   ],
   "metadata": {
    "collapsed": false,
    "pycharm": {
     "name": "#%%\n"
    }
   }
  },
  {
   "cell_type": "code",
   "execution_count": 2,
   "outputs": [],
   "source": [
    "import tensorflow as tf\n",
    "import matplotlib.pyplot as plt\n",
    "\n",
    "%matplotlib inline\n",
    "\n",
    "n = 500000\n",
    "A = tf.truncated_normal((n,))\n",
    "B = tf.random_normal((n,))\n",
    "with tf.Session() as sess:\n",
    "    a, b = sess.run([A, B])"
   ],
   "metadata": {
    "collapsed": false,
    "pycharm": {
     "name": "#%%\n"
    }
   }
  },
  {
   "cell_type": "code",
   "execution_count": 3,
   "outputs": [
    {
     "data": {
      "text/plain": "(array([    0.,     0.,     0.,     0.,     0.,     0.,     0.,     0.,\n            0.,     0.,     0.,     0.,     0.,     0.,     0.,     0.,\n            0.,     0.,     0.,     0.,     0.,     0.,     0.,     0.,\n            0.,     0.,  2048.,  2961.,  3385.,  4052.,  4577.,  5197.,\n         6011.,  6585.,  7673.,  8248.,  9387., 10099., 11017., 11909.,\n        12894., 13596., 14325., 15139., 15873., 16151., 16808., 17230.,\n        17438., 17355., 17530., 17640., 17038., 16761., 16228., 15678.,\n        15177., 14555., 13631., 12677., 11786., 10958., 10144.,  9424.,\n         8519.,  7517.,  6663.,  5899.,  5269.,  4560.,  3931.,  3370.,\n         3000.,  2087.,     0.,     0.,     0.,     0.,     0.,     0.,\n            0.,     0.,     0.,     0.,     0.,     0.,     0.,     0.,\n            0.,     0.,     0.,     0.,     0.,     0.,     0.,     0.,\n            0.,     0.,     0.,     0.]),\n array([-4.2  , -4.116, -4.032, -3.948, -3.864, -3.78 , -3.696, -3.612,\n        -3.528, -3.444, -3.36 , -3.276, -3.192, -3.108, -3.024, -2.94 ,\n        -2.856, -2.772, -2.688, -2.604, -2.52 , -2.436, -2.352, -2.268,\n        -2.184, -2.1  , -2.016, -1.932, -1.848, -1.764, -1.68 , -1.596,\n        -1.512, -1.428, -1.344, -1.26 , -1.176, -1.092, -1.008, -0.924,\n        -0.84 , -0.756, -0.672, -0.588, -0.504, -0.42 , -0.336, -0.252,\n        -0.168, -0.084,  0.   ,  0.084,  0.168,  0.252,  0.336,  0.42 ,\n         0.504,  0.588,  0.672,  0.756,  0.84 ,  0.924,  1.008,  1.092,\n         1.176,  1.26 ,  1.344,  1.428,  1.512,  1.596,  1.68 ,  1.764,\n         1.848,  1.932,  2.016,  2.1  ,  2.184,  2.268,  2.352,  2.436,\n         2.52 ,  2.604,  2.688,  2.772,  2.856,  2.94 ,  3.024,  3.108,\n         3.192,  3.276,  3.36 ,  3.444,  3.528,  3.612,  3.696,  3.78 ,\n         3.864,  3.948,  4.032,  4.116,  4.2  ], dtype=float32),\n <BarContainer object of 100 artists>)"
     },
     "execution_count": 3,
     "metadata": {},
     "output_type": "execute_result"
    },
    {
     "data": {
      "text/plain": "<Figure size 432x288 with 1 Axes>",
      "image/png": "[encoded data removed]"
     },
     "metadata": {
      "needs_background": "light"
     },
     "output_type": "display_data"
    }
   ],
   "source": [
    "plt.hist(a, 100, (-4.2, 4.2))\n"
   ],
   "metadata": {
    "collapsed": false,
    "pycharm": {
     "name": "#%%\n"
    }
   }
  },
  {
   "cell_type": "code",
   "execution_count": 4,
   "outputs": [
    {
     "data": {
      "text/plain": "(array([1.0000e+00, 8.0000e+00, 4.0000e+00, 7.0000e+00, 1.3000e+01,\n        2.6000e+01, 2.4000e+01, 2.8000e+01, 4.0000e+01, 5.7000e+01,\n        6.2000e+01, 1.0900e+02, 1.2300e+02, 1.3700e+02, 2.1600e+02,\n        2.3100e+02, 2.8600e+02, 3.9900e+02, 4.9600e+02, 6.4000e+02,\n        7.9200e+02, 9.8300e+02, 1.1970e+03, 1.4070e+03, 1.6600e+03,\n        2.0240e+03, 2.3910e+03, 2.8510e+03, 3.2260e+03, 3.7760e+03,\n        4.4010e+03, 5.0690e+03, 5.6080e+03, 6.3200e+03, 7.2450e+03,\n        7.9380e+03, 8.9000e+03, 9.7370e+03, 1.0575e+04, 1.1327e+04,\n        1.2422e+04, 1.3121e+04, 1.3984e+04, 1.4312e+04, 1.4936e+04,\n        1.5488e+04, 1.6003e+04, 1.6244e+04, 1.6637e+04, 1.6900e+04,\n        1.6576e+04, 1.6540e+04, 1.6448e+04, 1.5887e+04, 1.5618e+04,\n        1.4817e+04, 1.4541e+04, 1.3829e+04, 1.3042e+04, 1.2124e+04,\n        1.1347e+04, 1.0610e+04, 9.7220e+03, 8.7900e+03, 7.9960e+03,\n        7.2380e+03, 6.2450e+03, 5.6720e+03, 4.9330e+03, 4.4610e+03,\n        3.7030e+03, 3.2310e+03, 2.8230e+03, 2.3840e+03, 1.9650e+03,\n        1.6710e+03, 1.4410e+03, 1.1470e+03, 1.0340e+03, 7.8600e+02,\n        6.7600e+02, 4.9300e+02, 4.1400e+02, 3.3800e+02, 2.5900e+02,\n        2.1400e+02, 1.4600e+02, 1.3500e+02, 8.0000e+01, 5.1000e+01,\n        5.4000e+01, 3.5000e+01, 2.4000e+01, 2.3000e+01, 1.5000e+01,\n        8.0000e+00, 9.0000e+00, 2.0000e+00, 5.0000e+00, 4.0000e+00]),\n array([-4.2  , -4.116, -4.032, -3.948, -3.864, -3.78 , -3.696, -3.612,\n        -3.528, -3.444, -3.36 , -3.276, -3.192, -3.108, -3.024, -2.94 ,\n        -2.856, -2.772, -2.688, -2.604, -2.52 , -2.436, -2.352, -2.268,\n        -2.184, -2.1  , -2.016, -1.932, -1.848, -1.764, -1.68 , -1.596,\n        -1.512, -1.428, -1.344, -1.26 , -1.176, -1.092, -1.008, -0.924,\n        -0.84 , -0.756, -0.672, -0.588, -0.504, -0.42 , -0.336, -0.252,\n        -0.168, -0.084,  0.   ,  0.084,  0.168,  0.252,  0.336,  0.42 ,\n         0.504,  0.588,  0.672,  0.756,  0.84 ,  0.924,  1.008,  1.092,\n         1.176,  1.26 ,  1.344,  1.428,  1.512,  1.596,  1.68 ,  1.764,\n         1.848,  1.932,  2.016,  2.1  ,  2.184,  2.268,  2.352,  2.436,\n         2.52 ,  2.604,  2.688,  2.772,  2.856,  2.94 ,  3.024,  3.108,\n         3.192,  3.276,  3.36 ,  3.444,  3.528,  3.612,  3.696,  3.78 ,\n         3.864,  3.948,  4.032,  4.116,  4.2  ], dtype=float32),\n <BarContainer object of 100 artists>)"
     },
     "execution_count": 4,
     "metadata": {},
     "output_type": "execute_result"
    },
    {
     "data": {
      "text/plain": "<Figure size 432x288 with 1 Axes>",
      "image/png": "[encoded data removed]"
     },
     "metadata": {
      "needs_background": "light"
     },
     "output_type": "display_data"
    }
   ],
   "source": [
    "plt.hist(b, 100, (-4.2, 4.2))\n"
   ],
   "metadata": {
    "collapsed": false,
    "pycharm": {
     "name": "#%%\n"
    }
   }
  },
  {
   "cell_type": "code",
   "execution_count": 5,
   "outputs": [
    {
     "data": {
      "text/plain": "[<matplotlib.lines.Line2D at 0x7fb5a4394fd0>]"
     },
     "execution_count": 5,
     "metadata": {},
     "output_type": "execute_result"
    },
    {
     "data": {
      "text/plain": "<Figure size 432x288 with 1 Axes>",
      "image/png": "[encoded data removed]"
     },
     "metadata": {
      "needs_background": "light"
     },
     "output_type": "display_data"
    }
   ],
   "source": [
    "plt.plot(a)\n"
   ],
   "metadata": {
    "collapsed": false,
    "pycharm": {
     "name": "#%%\n"
    }
   }
  },
  {
   "cell_type": "code",
   "execution_count": null,
   "outputs": [],
   "source": [],
   "metadata": {
    "collapsed": false,
    "pycharm": {
     "name": "#%%\n"
    }
   }
  }
 ],
 "metadata": {
  "kernelspec": {
   "display_name": "Python 3",
   "language": "python",
   "name": "python3"
  },
  "language_info": {
   "codemirror_mode": {
    "name": "ipython",
    "version": 3
   },
   "file_extension": ".py",
   "mimetype": "text/x-python",
   "name": "python",
   "nbconvert_exporter": "python",
   "pygments_lexer": "ipython3",
   "version": "3.6.13"
  }
 },
 "nbformat": 4,
 "nbformat_minor": 5
}