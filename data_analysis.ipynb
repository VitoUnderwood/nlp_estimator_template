{
 "cells": [
  {
   "cell_type": "code",
   "execution_count": 1,
   "id": "9e5041a0",
   "metadata": {},
   "outputs": [],
   "source": [
    "?print"
   ]
  },
  {
   "cell_type": "code",
   "execution_count": 1,
   "id": "4e74389e",
   "metadata": {},
   "outputs": [],
   "source": [
    "from IPython.core.interactiveshell import InteractiveShell \n",
    "InteractiveShell.ast_node_interactivity = \"all\"\n",
    "# %whos"
   ]
  },
  {
   "cell_type": "markdown",
   "id": "5535e1c1",
   "metadata": {},
   "source": [
    "# 句子长度统计"
   ]
  },
  {
   "cell_type": "code",
   "execution_count": 2,
   "id": "d1ef46f6",
   "metadata": {
    "scrolled": true
   },
   "outputs": [
    {
     "name": "stderr",
     "output_type": "stream",
     "text": [
      "评论数据:   0%|\u001b[32m          \u001b[0m| 0/118796 [00:00<?, ?it/s]Building prefix dict from the default dictionary ...\n",
      "Loading model from cache /var/folders/3t/1m9xhcvj70jbv7z9vqsrdz2c0000gn/T/jieba.cache\n",
      "Loading model cost 0.536 seconds.\n",
      "Prefix dict has been built successfully.\n",
      "评论数据: 100%|\u001b[32m██████████\u001b[0m| 118796/118796 [00:56<00:00, 2120.66it/s]\n"
     ]
    }
   ],
   "source": [
    "# coding=utf-8\n",
    "import json\n",
    "import os\n",
    "import re\n",
    "import sys\n",
    "\n",
    "import jieba\n",
    "from tqdm import tqdm\n",
    "import pandas as pd\n",
    "\n",
    "sys.path.append(\"..\")\n",
    "\n",
    "from utils import dir_op\n",
    "\n",
    "\n",
    "def clean_text(text:str):\n",
    "    \"\"\"Clean text by removing unnecessary characters and altering the format of words.\n",
    "    nlg 任务的时候尽量保持原有的句子结构，不要去除停用词和标点，否则直接影响流畅程度\n",
    "    \"\"\"\n",
    "    text = re.sub(r\"\\s\", \"\", text)\n",
    "#     text = \" \".join(jieba.cut(text))\n",
    "\n",
    "    return text\n",
    "\n",
    "\n",
    "def main():\n",
    "    root_dir = \"data/phvm_data/data.jsonl\"\n",
    "    \n",
    "# {\n",
    "#     \"feature\": [[\"版型\", \"显瘦\"], [\"颜色\", \"灰色\"], [\"衣样式\", \"风衣\"], [\"衣样式\", \"外套\"], [\"衣袖型\", \"插肩袖\"], [\"衣门襟\", \"单排扣\"]], \n",
    "#     \"title\": \"\", \n",
    "#     \"largeSrc\": \"http://gw.alicdn.com/imgextra/i2/87171848/TB2BKKiahuTBuNkHFNRXXc9qpXa_!!87171848-2-daren.png_790x10000.jpg\", \n",
    "#     \"refSrc\": \"https://market.m.taobao.com/apps/market/content/index.html?&contentId=200550500064\", \n",
    "#     \"desc\": \"设计亮点这款中长款式的风衣外套，修身直筒的版型不仅仅穿着随意舒适，还能够轻松修饰身体轮廓更添高挑大气。时髦的插肩袖设计，也丰富了整体的层次感。衣门襟采用单排扣设计，显得厚实不失质感，很是吸引人的眼球。选用灰色调装饰，搭配起来也比较方便。\", \n",
    "#     \"file\": \"c0974de49d2bcf5cd49e1bb679f56d2c.jpg\"\n",
    "# }\n",
    "\n",
    "    with open(root_dir, \"r\") as fr:\n",
    "        with open(\"data/phvm_data/corpus.txt\", \"w\") as fw:\n",
    "            for line in tqdm(fr.readlines(), desc=\"评论数据\", colour=\"green\"):\n",
    "                tmp = json.loads(line)\n",
    "                desc = \" \".join(jieba.cut(clean_text(tmp[\"desc\"])))\n",
    "                fw.write(desc+'\\n')\n",
    "\n",
    "if __name__ == \"__main__\":\n",
    "    main()\n"
   ]
  },
  {
   "cell_type": "code",
   "execution_count": 41,
   "id": "ef7544f6",
   "metadata": {},
   "outputs": [
    {
     "name": "stderr",
     "output_type": "stream",
     "text": [
      "评论数据: 100%|\u001b[32m██████████\u001b[0m| 118796/118796 [00:00<00:00, 122115.23it/s]\n"
     ]
    }
   ],
   "source": [
    "import json\n",
    "import os\n",
    "import re\n",
    "import sys\n",
    "\n",
    "import jieba\n",
    "from tqdm import tqdm\n",
    "import pandas as pd\n",
    "\n",
    "root_dir = \"data/phvm_data/data.jsonl\"\n",
    "    \n",
    "# {\n",
    "#     \"feature\": [[\"版型\", \"显瘦\"], [\"颜色\", \"灰色\"], [\"衣样式\", \"风衣\"], [\"衣样式\", \"外套\"], [\"衣袖型\", \"插肩袖\"], [\"衣门襟\", \"单排扣\"]], \n",
    "#     \"title\": \"\", \n",
    "#     \"largeSrc\": \"http://gw.alicdn.com/imgextra/i2/87171848/TB2BKKiahuTBuNkHFNRXXc9qpXa_!!87171848-2-daren.png_790x10000.jpg\", \n",
    "#     \"refSrc\": \"https://market.m.taobao.com/apps/market/content/index.html?&contentId=200550500064\", \n",
    "#     \"desc\": \"设计亮点这款中长款式的风衣外套，修身直筒的版型不仅仅穿着随意舒适，还能够轻松修饰身体轮廓更添高挑大气。时髦的插肩袖设计，也丰富了整体的层次感。衣门襟采用单排扣设计，显得厚实不失质感，很是吸引人的眼球。选用灰色调装饰，搭配起来也比较方便。\", \n",
    "#     \"file\": \"c0974de49d2bcf5cd49e1bb679f56d2c.jpg\"\n",
    "# }\n",
    "\n",
    "features = {}\n",
    "\n",
    "with open(root_dir, \"r\") as fr:\n",
    "    for line in tqdm(fr.readlines(), desc=\"评论数据\", colour=\"green\"):\n",
    "        tmp = json.loads(line)\n",
    "        feat = tmp[\"feature\"]\n",
    "        for item in feat:\n",
    "            if item[0] in features.keys():\n",
    "                features[item[0]].add(item[1])\n",
    "            else:\n",
    "                features[item[0]] = set(item[1])"
   ]
  },
  {
   "cell_type": "code",
   "execution_count": 46,
   "id": "8b26d1e9",
   "metadata": {},
   "outputs": [
    {
     "data": {
      "text/plain": [
       "{'版型': {'H', '宽松', '显', '显瘦', '瘦', '立体剪裁'},\n",
       " '颜色': {'亮黄色',\n",
       "  '军绿色',\n",
       "  '卡其色',\n",
       "  '墨绿色',\n",
       "  '姜黄色',\n",
       "  '宝蓝色',\n",
       "  '杏色',\n",
       "  '浅灰色',\n",
       "  '浅绿色',\n",
       "  '浅色',\n",
       "  '浅蓝色',\n",
       "  '海军色',\n",
       "  '淡蓝色',\n",
       "  '深色',\n",
       "  '深蓝色',\n",
       "  '灰',\n",
       "  '灰绿色',\n",
       "  '灰色',\n",
       "  '焦糖色',\n",
       "  '玫瑰金色',\n",
       "  '白色',\n",
       "  '米白色',\n",
       "  '粉红色',\n",
       "  '粉色',\n",
       "  '紫色',\n",
       "  '红色',\n",
       "  '纯色',\n",
       "  '绿色',\n",
       "  '肉色',\n",
       "  '色',\n",
       "  '蓝紫色',\n",
       "  '蓝色',\n",
       "  '薄荷绿色',\n",
       "  '藏蓝色',\n",
       "  '裸色',\n",
       "  '豹纹色',\n",
       "  '迷彩色',\n",
       "  '酒红色',\n",
       "  '金色',\n",
       "  '银色',\n",
       "  '香芋紫色',\n",
       "  '驼色',\n",
       "  '黄色',\n",
       "  '黑白',\n",
       "  '黑色'},\n",
       " '衣样式': {'POLO',\n",
       "  't恤',\n",
       "  '冲锋衣',\n",
       "  '卫衣',\n",
       "  '外套',\n",
       "  '开衫',\n",
       "  '毛衣',\n",
       "  '衣',\n",
       "  '衫',\n",
       "  '衬衫',\n",
       "  '西装',\n",
       "  '针织衫',\n",
       "  '风',\n",
       "  '风衣',\n",
       "  '马甲'},\n",
       " '衣袖型': {'公主袖',\n",
       "  '包袖',\n",
       "  '喇叭袖',\n",
       "  '堆堆袖',\n",
       "  '插',\n",
       "  '插肩袖',\n",
       "  '收口',\n",
       "  '泡泡袖',\n",
       "  '灯笼袖',\n",
       "  '肩',\n",
       "  '花瓣袖',\n",
       "  '荷叶袖',\n",
       "  '落肩袖',\n",
       "  '蝙蝠袖',\n",
       "  '衬衫袖',\n",
       "  '袖',\n",
       "  '连袖',\n",
       "  '飞飞袖'},\n",
       " '衣门襟': {'一粒扣',\n",
       "  '三粒扣',\n",
       "  '单',\n",
       "  '单排两粒扣',\n",
       "  '单排多扣',\n",
       "  '单排扣',\n",
       "  '双排扣',\n",
       "  '套头',\n",
       "  '扣',\n",
       "  '拉链',\n",
       "  '排',\n",
       "  '无扣',\n",
       "  '暗扣',\n",
       "  '牛角扣',\n",
       "  '系带'},\n",
       " '类型': {'上衣', '裙', '裤'},\n",
       " '图案': {'3D效果',\n",
       "  '亮面',\n",
       "  '人物',\n",
       "  '几何',\n",
       "  '创意',\n",
       "  '刺绣',\n",
       "  '动物',\n",
       "  '动物纹',\n",
       "  '千鸟格',\n",
       "  '卡通',\n",
       "  '印花',\n",
       "  '圆点',\n",
       "  '复古',\n",
       "  '大花',\n",
       "  '字母',\n",
       "  '宇宙星空',\n",
       "  '宗教',\n",
       "  '小熊',\n",
       "  '建筑',\n",
       "  '形状',\n",
       "  '心形',\n",
       "  '恶魔',\n",
       "  '手绘',\n",
       "  '抽象',\n",
       "  '拼色',\n",
       "  '搞怪',\n",
       "  '撞色',\n",
       "  '文字',\n",
       "  '斑马纹',\n",
       "  '条',\n",
       "  '条纹',\n",
       "  '格子',\n",
       "  '植物',\n",
       "  '波点',\n",
       "  '渐变',\n",
       "  '环保',\n",
       "  '电影',\n",
       "  '碎花',\n",
       "  '纯色',\n",
       "  '线',\n",
       "  '线条',\n",
       "  '绘画',\n",
       "  '色块',\n",
       "  '花色',\n",
       "  '菱形',\n",
       "  '蕾丝',\n",
       "  '蝴蝶结',\n",
       "  '豹纹',\n",
       "  '迷彩',\n",
       "  '音乐',\n",
       "  '风景',\n",
       "  '骷髅'},\n",
       " '裙型': {'A字',\n",
       "  '一步裙',\n",
       "  '仙女裙',\n",
       "  '伞裙',\n",
       "  '公主裙',\n",
       "  '包臀裙',\n",
       "  '大裙摆',\n",
       "  '小黑裙',\n",
       "  '抹胸裙',\n",
       "  '拼接裙',\n",
       "  '灯笼裙',\n",
       "  '牛仔裙',\n",
       "  '百',\n",
       "  '百褶',\n",
       "  '直筒裙',\n",
       "  '背带裙',\n",
       "  '花苞裙',\n",
       "  '蓬蓬裙',\n",
       "  '蛋糕',\n",
       "  '褶',\n",
       "  '西装裙',\n",
       "  '铅笔裙',\n",
       "  '鱼尾裙'},\n",
       " '衣领型': {'POLO领',\n",
       "  'V领',\n",
       "  '一字领',\n",
       "  '半开领',\n",
       "  '半高领',\n",
       "  '双层领',\n",
       "  '围巾领',\n",
       "  '圆领',\n",
       "  '堆堆领',\n",
       "  '娃娃领',\n",
       "  '斜领',\n",
       "  '方领',\n",
       "  '海军领',\n",
       "  '立',\n",
       "  '立领',\n",
       "  '翻领',\n",
       "  '荷叶领',\n",
       "  '西装领',\n",
       "  '领',\n",
       "  '高领'},\n",
       " '材质': {'丝',\n",
       "  '丝绒',\n",
       "  '亚麻',\n",
       "  '天丝',\n",
       "  '条绒',\n",
       "  '棉',\n",
       "  '棉麻',\n",
       "  '牛仔布',\n",
       "  '绸缎',\n",
       "  '网纱',\n",
       "  '羊毛',\n",
       "  '羊绒',\n",
       "  '莱卡',\n",
       "  '蕾',\n",
       "  '蕾丝',\n",
       "  '蚕丝',\n",
       "  '针织'},\n",
       " '风格': {'OL',\n",
       "  '中国风',\n",
       "  '乡村',\n",
       "  '休闲',\n",
       "  '原创设计',\n",
       "  '古',\n",
       "  '商务绅士',\n",
       "  '嘻哈',\n",
       "  '复',\n",
       "  '复古',\n",
       "  '宫廷',\n",
       "  '居家',\n",
       "  '工装',\n",
       "  '性感',\n",
       "  '摇滚',\n",
       "  '文艺',\n",
       "  '日系',\n",
       "  '朋克',\n",
       "  '欧美',\n",
       "  '民族风',\n",
       "  '淑女',\n",
       "  '清新',\n",
       "  '潮',\n",
       "  '瑞丽',\n",
       "  '知性',\n",
       "  '简约',\n",
       "  '职场',\n",
       "  '英伦',\n",
       "  '街头',\n",
       "  '运动',\n",
       "  '通勤',\n",
       "  '青春',\n",
       "  '韩版',\n",
       "  '高贵'},\n",
       " '裙长': {'不过膝', '中裙', '中长裙', '半身裙', '短裙', '衣', '裙', '超短裙', '连', '连衣裙', '长裙'},\n",
       " '裙袖型': {'公主袖',\n",
       "  '包袖',\n",
       "  '喇叭袖',\n",
       "  '堆堆袖',\n",
       "  '插肩袖',\n",
       "  '收口',\n",
       "  '泡泡袖',\n",
       "  '灯',\n",
       "  '灯笼袖',\n",
       "  '牛角袖',\n",
       "  '笼',\n",
       "  '花瓣袖',\n",
       "  '荷叶袖',\n",
       "  '蝙蝠袖',\n",
       "  '衬衫袖',\n",
       "  '袖',\n",
       "  '连袖',\n",
       "  '飞飞袖'},\n",
       " '裙款式': {'不对称',\n",
       "  '不规则',\n",
       "  '亮丝',\n",
       "  '亮片',\n",
       "  '勾花镂空',\n",
       "  '口袋',\n",
       "  '吊带',\n",
       "  '对称',\n",
       "  '扎染',\n",
       "  '扎花',\n",
       "  '抽绳',\n",
       "  '抽褶',\n",
       "  '拉链',\n",
       "  '拼',\n",
       "  '拼接',\n",
       "  '接',\n",
       "  '收腰',\n",
       "  '木耳',\n",
       "  '木耳边',\n",
       "  '松紧带',\n",
       "  '波浪',\n",
       "  '燕尾',\n",
       "  '盘扣',\n",
       "  '破洞',\n",
       "  '立体装饰',\n",
       "  '纽扣',\n",
       "  '绑带',\n",
       "  '腰带',\n",
       "  '螺纹',\n",
       "  '衬衫式',\n",
       "  '连帽',\n",
       "  '钉珠',\n",
       "  '链条',\n",
       "  '镶钻',\n",
       "  '露肩',\n",
       "  '露背',\n",
       "  '飘带'},\n",
       " '衣长': {'中长款', '常规', '款', '短', '短款', '超短款'},\n",
       " '裤腰型': {'中', '中腰', '低腰', '宽松腰', '松紧腰', '腰', '自然腰', '高腰'},\n",
       " '裙袖长': {'七分袖', '九分袖', '五分袖', '无', '无袖', '短袖', '袖', '长袖'},\n",
       " '裙领型': {'POLO领',\n",
       "  'V领',\n",
       "  '一字领',\n",
       "  '半',\n",
       "  '半开领',\n",
       "  '半高领',\n",
       "  '双层领',\n",
       "  '围巾领',\n",
       "  '圆领',\n",
       "  '堆堆领',\n",
       "  '娃娃领',\n",
       "  '斜领',\n",
       "  '方领',\n",
       "  '海军领',\n",
       "  '立领',\n",
       "  '翻领',\n",
       "  '荷叶领',\n",
       "  '西装领',\n",
       "  '领',\n",
       "  '高',\n",
       "  '高领'},\n",
       " '衣款式': {'不对称',\n",
       "  '不规则',\n",
       "  '亮丝',\n",
       "  '亮片',\n",
       "  '勾花镂空',\n",
       "  '口袋',\n",
       "  '吊带',\n",
       "  '对称',\n",
       "  '扎染',\n",
       "  '抽绳',\n",
       "  '抽褶',\n",
       "  '拉链',\n",
       "  '拼接',\n",
       "  '收腰',\n",
       "  '木耳',\n",
       "  '木耳边',\n",
       "  '松紧带',\n",
       "  '波浪',\n",
       "  '洞',\n",
       "  '燕尾',\n",
       "  '盘扣',\n",
       "  '破',\n",
       "  '破洞',\n",
       "  '立体装饰',\n",
       "  '纽扣',\n",
       "  '绑带',\n",
       "  '腰带',\n",
       "  '荷叶边',\n",
       "  '螺纹',\n",
       "  '衬衫式',\n",
       "  '连帽',\n",
       "  '钉珠',\n",
       "  '链条',\n",
       "  '镶钻',\n",
       "  '露肩',\n",
       "  '露背',\n",
       "  '飘带'},\n",
       " '裙腰型': {'中腰', '低腰', '宽松腰', '松', '松紧腰', '紧', '腰', '自然腰', '高腰'},\n",
       " '裤款式': {'不对称',\n",
       "  '不规则',\n",
       "  '亮丝',\n",
       "  '亮片',\n",
       "  '勾花镂空',\n",
       "  '口袋',\n",
       "  '扎染',\n",
       "  '抽绳',\n",
       "  '抽褶',\n",
       "  '拉链',\n",
       "  '拼',\n",
       "  '拼接',\n",
       "  '接',\n",
       "  '木耳边',\n",
       "  '松紧带',\n",
       "  '波浪',\n",
       "  '盘扣',\n",
       "  '破洞',\n",
       "  '立体装饰',\n",
       "  '纱网',\n",
       "  '纽扣',\n",
       "  '绑带',\n",
       "  '螺纹',\n",
       "  '钉珠',\n",
       "  '链条',\n",
       "  '镶钻',\n",
       "  '飘带'},\n",
       " '裤型': {'哈伦裤',\n",
       "  '垮裤',\n",
       "  '灯笼裤',\n",
       "  '直筒裤',\n",
       "  '背带裤',\n",
       "  '腿',\n",
       "  '裤',\n",
       "  '连衣裤',\n",
       "  '铅笔裤',\n",
       "  '阔',\n",
       "  '阔腿裤',\n",
       "  '靴裤'},\n",
       " '裙衣门襟': {'一粒扣',\n",
       "  '三粒扣',\n",
       "  '单排两粒扣',\n",
       "  '单排多扣',\n",
       "  '单排扣',\n",
       "  '双排扣',\n",
       "  '套头',\n",
       "  '带',\n",
       "  '拉链',\n",
       "  '无扣',\n",
       "  '暗扣',\n",
       "  '牛角扣',\n",
       "  '系',\n",
       "  '系带'},\n",
       " '裙下摆': {'叉', '开', '开叉', '荷叶边'},\n",
       " '裤长': {'七', '七分裤', '九分裤', '五分裤', '八分裤', '分', '短裤', '裤', '连体裤', '长裤'},\n",
       " '衣袖长': {'七分袖', '九分袖', '五分袖', '无袖', '短袖', '袖', '长', '长袖'},\n",
       " '裤口': {'卷边', '小', '小脚', '开叉', '微喇裤', '毛边', '脚'},\n",
       " '裙衣长': {'中', '中长款', '常规', '款', '短款', '超短款', '长'}}"
      ]
     },
     "execution_count": 46,
     "metadata": {},
     "output_type": "execute_result"
    }
   ],
   "source": [
    "features"
   ]
  },
  {
   "cell_type": "code",
   "execution_count": 47,
   "id": "a854e4f4",
   "metadata": {},
   "outputs": [],
   "source": [
    "web = []\n",
    "\n",
    "for k, v in features.items():\n",
    "    web.append({\"key\": k, \"val\": list(v)})"
   ]
  },
  {
   "cell_type": "code",
   "execution_count": 54,
   "id": "130d6d1e",
   "metadata": {},
   "outputs": [],
   "source": [
    "import json\n",
    "json.dump({\"data\": web}, open('test.json', 'w'), ensure_ascii=False)"
   ]
  },
  {
   "cell_type": "code",
   "execution_count": 14,
   "id": "cf695ccf",
   "metadata": {
    "scrolled": true
   },
   "outputs": [],
   "source": [
    "import pickle\n",
    "key_ls = [\"<PAD>\", \"<UNK>\"]\n",
    "key_ls = key_ls + list(features.keys())\n",
    "\n",
    "pickle.dump(key_ls, open(\"key.pkl\", \"wb\"))"
   ]
  },
  {
   "cell_type": "code",
   "execution_count": 15,
   "id": "6985e90e",
   "metadata": {},
   "outputs": [],
   "source": [
    "val_ls = [\"<PAD>\", \"<UNK>\"]\n",
    "for _, v in features.items():\n",
    "    for s in v:\n",
    "        val_ls.append(s)\n",
    "pickle.dump(val_ls, open(\"val.pkl\", \"wb\"))"
   ]
  },
  {
   "cell_type": "code",
   "execution_count": 16,
   "id": "6f8305b0",
   "metadata": {},
   "outputs": [
    {
     "data": {
      "text/plain": [
       "(494, 30)"
      ]
     },
     "execution_count": 16,
     "metadata": {},
     "output_type": "execute_result"
    }
   ],
   "source": [
    "len(val_ls), len(key_ls)"
   ]
  },
  {
   "cell_type": "code",
   "execution_count": 44,
   "id": "03d8816b",
   "metadata": {},
   "outputs": [],
   "source": [
    "df = pd.read_csv(\"tmp.tvs\", sep=\"\\t\")"
   ]
  },
  {
   "cell_type": "code",
   "execution_count": 46,
   "id": "7ed27064",
   "metadata": {
    "scrolled": false
   },
   "outputs": [
    {
     "data": {
      "text/html": [
       "<div>\n",
       "<style scoped>\n",
       "    .dataframe tbody tr th:only-of-type {\n",
       "        vertical-align: middle;\n",
       "    }\n",
       "\n",
       "    .dataframe tbody tr th {\n",
       "        vertical-align: top;\n",
       "    }\n",
       "\n",
       "    .dataframe thead th {\n",
       "        text-align: right;\n",
       "    }\n",
       "</style>\n",
       "<table border=\"1\" class=\"dataframe\">\n",
       "  <thead>\n",
       "    <tr style=\"text-align: right;\">\n",
       "      <th></th>\n",
       "      <th>Unnamed: 0</th>\n",
       "      <th>feat_len</th>\n",
       "      <th>text_len</th>\n",
       "    </tr>\n",
       "  </thead>\n",
       "  <tbody>\n",
       "    <tr>\n",
       "      <th>count</th>\n",
       "      <td>118766.000000</td>\n",
       "      <td>118766.000000</td>\n",
       "      <td>118766.000000</td>\n",
       "    </tr>\n",
       "    <tr>\n",
       "      <th>mean</th>\n",
       "      <td>59382.500000</td>\n",
       "      <td>6.795825</td>\n",
       "      <td>114.206027</td>\n",
       "    </tr>\n",
       "    <tr>\n",
       "      <th>std</th>\n",
       "      <td>34284.935373</td>\n",
       "      <td>2.543822</td>\n",
       "      <td>24.848260</td>\n",
       "    </tr>\n",
       "    <tr>\n",
       "      <th>min</th>\n",
       "      <td>0.000000</td>\n",
       "      <td>1.000000</td>\n",
       "      <td>21.000000</td>\n",
       "    </tr>\n",
       "    <tr>\n",
       "      <th>25%</th>\n",
       "      <td>29691.250000</td>\n",
       "      <td>5.000000</td>\n",
       "      <td>98.000000</td>\n",
       "    </tr>\n",
       "    <tr>\n",
       "      <th>50%</th>\n",
       "      <td>59382.500000</td>\n",
       "      <td>7.000000</td>\n",
       "      <td>113.000000</td>\n",
       "    </tr>\n",
       "    <tr>\n",
       "      <th>75%</th>\n",
       "      <td>89073.750000</td>\n",
       "      <td>8.000000</td>\n",
       "      <td>129.000000</td>\n",
       "    </tr>\n",
       "    <tr>\n",
       "      <th>max</th>\n",
       "      <td>118765.000000</td>\n",
       "      <td>21.000000</td>\n",
       "      <td>204.000000</td>\n",
       "    </tr>\n",
       "  </tbody>\n",
       "</table>\n",
       "</div>"
      ],
      "text/plain": [
       "          Unnamed: 0       feat_len       text_len\n",
       "count  118766.000000  118766.000000  118766.000000\n",
       "mean    59382.500000       6.795825     114.206027\n",
       "std     34284.935373       2.543822      24.848260\n",
       "min         0.000000       1.000000      21.000000\n",
       "25%     29691.250000       5.000000      98.000000\n",
       "50%     59382.500000       7.000000     113.000000\n",
       "75%     89073.750000       8.000000     129.000000\n",
       "max    118765.000000      21.000000     204.000000"
      ]
     },
     "execution_count": 46,
     "metadata": {},
     "output_type": "execute_result"
    }
   ],
   "source": [
    "df.describe()"
   ]
  },
  {
   "cell_type": "code",
   "execution_count": 51,
   "id": "7d7d38f6",
   "metadata": {
    "scrolled": true
   },
   "outputs": [
    {
     "data": {
      "text/plain": [
       "Text(0.5, 0, 'Text char count')"
      ]
     },
     "execution_count": 51,
     "metadata": {},
     "output_type": "execute_result"
    },
    {
     "data": {
      "text/plain": [
       "Text(0.5, 1.0, 'Histogram of char count')"
      ]
     },
     "execution_count": 51,
     "metadata": {},
     "output_type": "execute_result"
    },
    {
     "data": {
      "image/png": "[encoded data removed]",
      "text/plain": [
       "<Figure size 432x288 with 1 Axes>"
      ]
     },
     "metadata": {
      "needs_background": "light"
     },
     "output_type": "display_data"
    }
   ],
   "source": [
    "import matplotlib.pyplot as plt\n",
    "_ = plt.hist(df['text_len'], bins=100)\n",
    "plt.xlabel('Text char count')\n",
    "plt.title(\"Histogram of char count\")"
   ]
  },
  {
   "cell_type": "code",
   "execution_count": 53,
   "id": "11704d14",
   "metadata": {},
   "outputs": [
    {
     "data": {
      "text/plain": [
       "Text(0.5, 0, 'features count')"
      ]
     },
     "execution_count": 53,
     "metadata": {},
     "output_type": "execute_result"
    },
    {
     "data": {
      "text/plain": [
       "Text(0.5, 1.0, 'Histogram of char count')"
      ]
     },
     "execution_count": 53,
     "metadata": {},
     "output_type": "execute_result"
    },
    {
     "data": {
      "image/png": "[encoded data removed]",
      "text/plain": [
       "<Figure size 432x288 with 1 Axes>"
      ]
     },
     "metadata": {
      "needs_background": "light"
     },
     "output_type": "display_data"
    }
   ],
   "source": [
    "_ = plt.hist(df['feat_len'], bins=10)\n",
    "plt.xlabel('features count')\n",
    "plt.title(\"Histogram of features count\")"
   ]
  },
  {
   "cell_type": "code",
   "execution_count": 26,
   "id": "a64540c0",
   "metadata": {
    "scrolled": true
   },
   "outputs": [
    {
     "data": {
      "text/plain": [
       "'{\"feature\": [[\"类型\", \"裤\"], [\"风格\", \"简约\"], [\"风格\", \"潮\"], [\"图案\", \"格子\"], [\"图案\", \"几何\"], [\"图案\", \"线条\"], [\"裤长\", \"七分裤\"], [\"裤型\", \"阔腿裤\"]], \"title\": \"\", \"largeSrc\": \"http://gw.alicdn.com/imgextra/i2/646511815/TB2KBRHb1ySBuNjy1zdXXXPxFXa_!!646511815-0-beehive-scenes.jpg_790x10000Q75.jpg\", \"refSrc\": \"https://market.m.taobao.com/apps/market/content/index.html?&contentId=200551261363\", \"desc\": \"这 款 阔腿裤 ， 整体 设计 简约 利落 ， 时尚 的 阔 腿 款式 带来 鲜明 的 几何 设计 美感 ， 褪去 传统 装束 的 厚重 与 臃肿 ， 更具 轻盈 美感 。 搭配 七分裤 长 修饰 出 挺拔 的 腿部 线条 ， 气质 的 格纹 图案 不 显 单调 ， 尽显 女性 优雅 气质 。 斜门襟 设计 潮流 出众 ， 让 你 时刻 保持 动人 的 女性 风采 。\", \"file\": \"fcc77fd7d27d564aed705d99b33e6a39.jpg\", \"专有属性\": [[\"裤长\", \"七分裤\"], [\"裤型\", \"阔腿裤\"], [\"类型\", \"裤\"]], \"共有属性\": [[\"风格\", \"简约\"], [\"风格\", \"潮\"], [\"图案\", \"格子\"], [\"图案\", \"几何\"], [\"图案\", \"线条\"]], \"segment\": {\"seg_0\": {\"segId\": 0, \"key_type\": [\"裤型\", \"图案\", \"风格\"], \"order\": [[\"风格\", \"简约\"], [\"裤型\", \"阔腿裤\"], [\"图案\", \"几何\"]], \"seg\": \"这 款 阔腿裤 ， 整体 设计 简约 利落 ， 时尚 的 阔 腿 款式 带来 鲜明 的 几何 设计 美感 ， 褪去 传统 装束 的 厚重 与 臃肿 ， 更具 轻盈 美感 。\"}, \"seg_1\": {\"segId\": 1, \"key_type\": [\"图案\", \"裤长\"], \"order\": [[\"裤长\", \"七分裤\"], [\"图案\", \"线条\"], [\"图案\", \"格子\"]], \"seg\": \"搭配 七分裤 长 修饰 出 挺拔 的 腿部 线条 ， 气质 的 格纹 图案 不 显 单调 ， 尽显 女性 优雅 气质 。\"}, \"seg_2\": {\"segId\": 2, \"key_type\": [\"风格\"], \"order\": [[\"风格\", \"潮\"]], \"seg\": \"斜门襟 设计 潮流 出众 ， 让 你 时刻 保持 动人 的 女性 风采 。\"}}}'"
      ]
     },
     "execution_count": 26,
     "metadata": {},
     "output_type": "execute_result"
    }
   ],
   "source": [
    "json.dumps(json.loads(\"\"\"{\"feature\": [[\"类型\", \"裤\"], [\"风格\", \"简约\"], [\"风格\", \"潮\"], [\"图案\", \"格子\"], [\"图案\", \"几何\"], [\"图案\", \"线条\"], [\"裤长\", \"七分裤\"], [\"裤型\", \"阔腿裤\"]], \"title\": \"\", \"largeSrc\": \"http://gw.alicdn.com/imgextra/i2/646511815/TB2KBRHb1ySBuNjy1zdXXXPxFXa_!!646511815-0-beehive-scenes.jpg_790x10000Q75.jpg\", \"refSrc\": \"https://market.m.taobao.com/apps/market/content/index.html?&contentId=200551261363\", \"desc\": \"这 款 阔腿裤 ， 整体 设计 简约 利落 ， 时尚 的 阔 腿 款式 带来 鲜明 的 几何 设计 美感 ， 褪去 传统 装束 的 厚重 与 臃肿 ， 更具 轻盈 美感 。 搭配 七分裤 长 修饰 出 挺拔 的 腿部 线条 ， 气质 的 格纹 图案 不 显 单调 ， 尽显 女性 优雅 气质 。 斜门襟 设计 潮流 出众 ， 让 你 时刻 保持 动人 的 女性 风采 。\", \"file\": \"fcc77fd7d27d564aed705d99b33e6a39.jpg\", \"专有属性\": [[\"裤长\", \"七分裤\"], [\"裤型\", \"阔腿裤\"], [\"类型\", \"裤\"]], \"共有属性\": [[\"风格\", \"简约\"], [\"风格\", \"潮\"], [\"图案\", \"格子\"], [\"图案\", \"几何\"], [\"图案\", \"线条\"]], \"segment\": {\"seg_0\": {\"segId\": 0, \"key_type\": [\"裤型\", \"图案\", \"风格\"], \"order\": [[\"风格\", \"简约\"], [\"裤型\", \"阔腿裤\"], [\"图案\", \"几何\"]], \"seg\": \"这 款 阔腿裤 ， 整体 设计 简约 利落 ， 时尚 的 阔 腿 款式 带来 鲜明 的 几何 设计 美感 ， 褪去 传统 装束 的 厚重 与 臃肿 ， 更具 轻盈 美感 。\"}, \"seg_1\": {\"segId\": 1, \"key_type\": [\"图案\", \"裤长\"], \"order\": [[\"裤长\", \"七分裤\"], [\"图案\", \"线条\"], [\"图案\", \"格子\"]], \"seg\": \"搭配 七分裤 长 修饰 出 挺拔 的 腿部 线条 ， 气质 的 格纹 图案 不 显 单调 ， 尽显 女性 优雅 气质 。\"}, \"seg_2\": {\"segId\": 2, \"key_type\": [\"风格\"], \"order\": [[\"风格\", \"潮\"]], \"seg\": \"斜门襟 设计 潮流 出众 ， 让 你 时刻 保持 动人 的 女性 风采 。\"}}}\n",
    "\"\"\"), ensure_ascii=False)"
   ]
  },
  {
   "cell_type": "code",
   "execution_count": null,
   "id": "603c8431",
   "metadata": {},
   "outputs": [],
   "source": [
    "import pandas as pd\n",
    "import matplotlib.pyplot as plt\n",
    "\n",
    "df['text_len'] = df['text'].apply(lambda x: len(x.split(\" \")))\n",
    "print(df['text_len'].describe())"
   ]
  },
  {
   "cell_type": "code",
   "execution_count": null,
   "id": "fc8090f9",
   "metadata": {},
   "outputs": [],
   "source": [
    "_ = plt.hist(df['text_len'], bins=100) # bins 数据划分区间\n",
    "plt.xlabel('Text char count')\n",
    "plt.title(\"Histogram of char count\")"
   ]
  },
  {
   "cell_type": "markdown",
   "id": "b66431e5",
   "metadata": {},
   "source": [
    "# 词频统计"
   ]
  },
  {
   "cell_type": "markdown",
   "id": "748d4893",
   "metadata": {},
   "source": [
    "使用gensim训练好的的模型中含有vocab，是按照词频排序的"
   ]
  },
  {
   "cell_type": "code",
   "execution_count": 17,
   "id": "414961db",
   "metadata": {},
   "outputs": [],
   "source": [
    "import pickle\n",
    "vocab = pickle.load(open(\"checkpoints/data2text/vocab.pkl\", \"rb\"))"
   ]
  },
  {
   "cell_type": "code",
   "execution_count": 18,
   "id": "674d3762",
   "metadata": {},
   "outputs": [
    {
     "data": {
      "text/plain": [
       "17486"
      ]
     },
     "execution_count": 18,
     "metadata": {},
     "output_type": "execute_result"
    }
   ],
   "source": [
    "len(vocab)"
   ]
  },
  {
   "cell_type": "code",
   "execution_count": 20,
   "id": "3ddce741",
   "metadata": {},
   "outputs": [
    {
     "data": {
      "text/plain": [
       "['<PAD>',\n",
       " '<S>',\n",
       " '<E>',\n",
       " '<UNK>',\n",
       " '，',\n",
       " '的',\n",
       " '。',\n",
       " '设计',\n",
       " '了',\n",
       " '<UNK>',\n",
       " '感',\n",
       " '时尚',\n",
       " '又',\n",
       " '是',\n",
       " '版型',\n",
       " '很',\n",
       " '让',\n",
       " '在',\n",
       " '采用',\n",
       " '气质',\n",
       " '舒适',\n",
       " '优雅',\n",
       " '有',\n",
       " '出',\n",
       " '上',\n",
       " '这',\n",
       " '穿',\n",
       " '也',\n",
       " '穿着',\n",
       " '和',\n",
       " '连衣裙',\n",
       " '线条',\n",
       " '款',\n",
       " '面料',\n",
       " '你',\n",
       " '修饰',\n",
       " '宽松',\n",
       " '与',\n",
       " '搭配',\n",
       " '精致',\n",
       " '小',\n",
       " '不',\n",
       " '个性',\n",
       " '简约',\n",
       " '显瘦',\n",
       " '整体',\n",
       " '气息',\n",
       " '经典',\n",
       " '身材',\n",
       " '能',\n",
       " '可以',\n",
       " '更加',\n",
       " '更',\n",
       " '性感',\n",
       " '同时',\n",
       " '好',\n",
       " '拼接',\n",
       " '衬衫',\n",
       " '而',\n",
       " '印花',\n",
       " '女性',\n",
       " '点缀',\n",
       " '装饰',\n",
       " '都',\n",
       " '人',\n",
       " '休闲',\n",
       " '效果',\n",
       " '非常',\n",
       " '复古',\n",
       " '彰显',\n",
       " '；',\n",
       " '造型',\n",
       " '上身',\n",
       " '带来',\n",
       " '增添',\n",
       " '轻松',\n",
       " '着',\n",
       " '视觉',\n",
       " '一款',\n",
       " '甜美',\n",
       " '显得',\n",
       " '还',\n",
       " '撞色',\n",
       " '十足',\n",
       " '裙摆',\n",
       " '清新',\n",
       " '条纹',\n",
       " '给',\n",
       " '更显',\n",
       " '剪裁',\n",
       " '时髦',\n",
       " '风格',\n",
       " '款式',\n",
       " '修身',\n",
       " '凸显',\n",
       " '展现',\n",
       " '感觉',\n",
       " '元素',\n",
       " '图案',\n",
       " '魅力']"
      ]
     },
     "execution_count": 20,
     "metadata": {},
     "output_type": "execute_result"
    }
   ],
   "source": [
    "vocab[:100]"
   ]
  },
  {
   "cell_type": "markdown",
   "id": "7843d41c",
   "metadata": {},
   "source": [
    "# 词云展示"
   ]
  },
  {
   "cell_type": "code",
   "execution_count": 5,
   "id": "fed04010",
   "metadata": {},
   "outputs": [
    {
     "data": {
      "text/plain": [
       "<wordcloud.wordcloud.WordCloud at 0x7f854d43ab70>"
      ]
     },
     "execution_count": 5,
     "metadata": {},
     "output_type": "execute_result"
    }
   ],
   "source": [
    "import wordcloud\n",
    "import jieba\n",
    "import os\n",
    "\n",
    "save_dir = \"data/imgs\"\n",
    "font_path=\"/System/Library/fonts/PingFang.ttc\"\n",
    "\n",
    "txt = \"一百年前，中国人苦苦寻找适合中国国情的道路。君主立宪制、复辟帝制、议会制、多党制、总统制都想过了、试过了，结果都行不通。最后，中国选择了社会主义道路\"\n",
    "seg_list = \" \".join(jieba.cut(txt))\n",
    "w=wordcloud.WordCloud(font_path=font_path)\n",
    "w.generate(seg_list)\n",
    "w.to_file(os.path.join(save_dir, \"cloud.png\"))"
   ]
  },
  {
   "cell_type": "code",
   "execution_count": 8,
   "id": "2fbaa7dc",
   "metadata": {},
   "outputs": [],
   "source": [
    "from gensim.models import Word2Vec"
   ]
  },
  {
   "cell_type": "code",
   "execution_count": 9,
   "id": "5cf3f50f",
   "metadata": {},
   "outputs": [],
   "source": [
    "model = Word2Vec.load(\"checkpoints/word2vec/word2vec.model\")"
   ]
  },
  {
   "cell_type": "code",
   "execution_count": 13,
   "id": "eeb7e17e",
   "metadata": {},
   "outputs": [],
   "source": [
    "# 获取所有词\n",
    "vocab = model.wv.index2word\n",
    "# 获取所有向量\n",
    "word_vectors = model.wv.vectors"
   ]
  },
  {
   "cell_type": "code",
   "execution_count": 37,
   "id": "7ccc9a67",
   "metadata": {},
   "outputs": [],
   "source": [
    "id2vec = model.wv.vectors.tolist()\n",
    "id2word = model.wv.index2word\n",
    "vocab = [\"<PAD>\", \"<S>\", \"<E>\", \"<UNK>\"]\n",
    "vectors = []\n",
    "\n",
    "for i in range(len(vocab)):\n",
    "    vectors.append(list(np.random.uniform(low=-0.1, high=0.1, size=(300,))))\n",
    "\n",
    "vocab = vocab + id2word\n",
    "vectors = vectors + id2vec"
   ]
  },
  {
   "cell_type": "code",
   "execution_count": 44,
   "id": "2e4c8629",
   "metadata": {},
   "outputs": [],
   "source": [
    "np.savetxt(\"vectors.txt\", vectors)"
   ]
  },
  {
   "cell_type": "code",
   "execution_count": 4,
   "id": "0dcb89d9",
   "metadata": {},
   "outputs": [],
   "source": [
    "word2idx = {word: idx for idx, word in enumerate(vocab)}\n",
    "idx2word = {idx: word for idx, word in enumerate(vocab)}"
   ]
  },
  {
   "cell_type": "code",
   "execution_count": 5,
   "id": "66eed3c1",
   "metadata": {},
   "outputs": [],
   "source": [
    "import tensorflow as tf"
   ]
  },
  {
   "cell_type": "code",
   "execution_count": 6,
   "id": "b5943fa8",
   "metadata": {},
   "outputs": [],
   "source": [
    "word_embedding = tf.get_variable(\"word_embedding\", dtype=tf.float32,\n",
    "                                 initializer=tf.constant(word_vector, dtype=tf.float32))"
   ]
  },
  {
   "cell_type": "code",
   "execution_count": 7,
   "id": "a6f01361",
   "metadata": {},
   "outputs": [],
   "source": [
    "x = tf.nn.embedding_lookup(word_embedding, 0)"
   ]
  },
  {
   "cell_type": "code",
   "execution_count": 9,
   "id": "f8d6726e",
   "metadata": {
    "code_folding": [],
    "scrolled": false
   },
   "outputs": [],
   "source": [
    "with tf.Session() as sess:\n",
    "    init = tf.global_variables_initializer()\n",
    "    sess.run(init)\n",
    "    z = sess.run(x)"
   ]
  },
  {
   "cell_type": "code",
   "execution_count": 3,
   "id": "dd84ea44",
   "metadata": {},
   "outputs": [],
   "source": [
    "import numpy as np"
   ]
  },
  {
   "cell_type": "code",
   "execution_count": 7,
   "id": "704e80ff",
   "metadata": {
    "scrolled": true
   },
   "outputs": [
    {
     "ename": "SyntaxError",
     "evalue": "unexpected EOF while parsing (<ipython-input-7-32cff6d290d1>, line 1)",
     "output_type": "error",
     "traceback": [
      "\u001b[0;36m  File \u001b[0;32m\"<ipython-input-7-32cff6d290d1>\"\u001b[0;36m, line \u001b[0;32m1\u001b[0m\n\u001b[0;31m    len(list(np.random.uniform(low=-0.1, high=0.1, size=300))\u001b[0m\n\u001b[0m                                                             ^\u001b[0m\n\u001b[0;31mSyntaxError\u001b[0m\u001b[0;31m:\u001b[0m unexpected EOF while parsing\n"
     ]
    }
   ],
   "source": [
    "len(list(np.random.uniform(low=-0.1, high=0.1, size=))"
   ]
  },
  {
   "cell_type": "markdown",
   "id": "4befc01f",
   "metadata": {},
   "source": [
    "# 处理新数据"
   ]
  },
  {
   "cell_type": "code",
   "execution_count": 38,
   "id": "1554f2bc",
   "metadata": {},
   "outputs": [],
   "source": [
    "import json\n",
    "with open(\"data/data2text/train.json\", \"r\") as f:\n",
    "    lines = f.readlines()"
   ]
  },
  {
   "cell_type": "code",
   "execution_count": 40,
   "id": "c7a3a93e",
   "metadata": {},
   "outputs": [],
   "source": [
    "feat_len = []\n",
    "seg_len = []\n",
    "with open(\"data/data2text/corpus.txt\", \"w\") as f:\n",
    "    for line in lines:\n",
    "        record = json.loads(line)\n",
    "        for _, seg in record[\"segment\"].items():\n",
    "            feat_len.append(len(seg[\"order\"]))\n",
    "            f.write(seg[\"seg\"])\n",
    "#             tokens = seg[\"seg\"].split()\n",
    "#             seg_len.append(len(tokens))"
   ]
  },
  {
   "cell_type": "code",
   "execution_count": 34,
   "id": "4a5f6f99",
   "metadata": {},
   "outputs": [
    {
     "data": {
      "text/html": [
       "<div>\n",
       "<style scoped>\n",
       "    .dataframe tbody tr th:only-of-type {\n",
       "        vertical-align: middle;\n",
       "    }\n",
       "\n",
       "    .dataframe tbody tr th {\n",
       "        vertical-align: top;\n",
       "    }\n",
       "\n",
       "    .dataframe thead th {\n",
       "        text-align: right;\n",
       "    }\n",
       "</style>\n",
       "<table border=\"1\" class=\"dataframe\">\n",
       "  <thead>\n",
       "    <tr style=\"text-align: right;\">\n",
       "      <th></th>\n",
       "      <th>0</th>\n",
       "    </tr>\n",
       "  </thead>\n",
       "  <tbody>\n",
       "    <tr>\n",
       "      <th>count</th>\n",
       "      <td>369403.000000</td>\n",
       "    </tr>\n",
       "    <tr>\n",
       "      <th>mean</th>\n",
       "      <td>2.153651</td>\n",
       "    </tr>\n",
       "    <tr>\n",
       "      <th>std</th>\n",
       "      <td>1.634395</td>\n",
       "    </tr>\n",
       "    <tr>\n",
       "      <th>min</th>\n",
       "      <td>0.000000</td>\n",
       "    </tr>\n",
       "    <tr>\n",
       "      <th>25%</th>\n",
       "      <td>1.000000</td>\n",
       "    </tr>\n",
       "    <tr>\n",
       "      <th>50%</th>\n",
       "      <td>2.000000</td>\n",
       "    </tr>\n",
       "    <tr>\n",
       "      <th>75%</th>\n",
       "      <td>3.000000</td>\n",
       "    </tr>\n",
       "    <tr>\n",
       "      <th>max</th>\n",
       "      <td>20.000000</td>\n",
       "    </tr>\n",
       "  </tbody>\n",
       "</table>\n",
       "</div>"
      ],
      "text/plain": [
       "                   0\n",
       "count  369403.000000\n",
       "mean        2.153651\n",
       "std         1.634395\n",
       "min         0.000000\n",
       "25%         1.000000\n",
       "50%         2.000000\n",
       "75%         3.000000\n",
       "max        20.000000"
      ]
     },
     "execution_count": 34,
     "metadata": {},
     "output_type": "execute_result"
    }
   ],
   "source": [
    "import pandas as pd\n",
    "df = pd.DataFrame(feat_len)\n",
    "df.describe()"
   ]
  },
  {
   "cell_type": "code",
   "execution_count": 35,
   "id": "f72e894c",
   "metadata": {},
   "outputs": [
    {
     "data": {
      "text/html": [
       "<div>\n",
       "<style scoped>\n",
       "    .dataframe tbody tr th:only-of-type {\n",
       "        vertical-align: middle;\n",
       "    }\n",
       "\n",
       "    .dataframe tbody tr th {\n",
       "        vertical-align: top;\n",
       "    }\n",
       "\n",
       "    .dataframe thead th {\n",
       "        text-align: right;\n",
       "    }\n",
       "</style>\n",
       "<table border=\"1\" class=\"dataframe\">\n",
       "  <thead>\n",
       "    <tr style=\"text-align: right;\">\n",
       "      <th></th>\n",
       "      <th>0</th>\n",
       "    </tr>\n",
       "  </thead>\n",
       "  <tbody>\n",
       "    <tr>\n",
       "      <th>count</th>\n",
       "      <td>369403.000000</td>\n",
       "    </tr>\n",
       "    <tr>\n",
       "      <th>mean</th>\n",
       "      <td>20.605442</td>\n",
       "    </tr>\n",
       "    <tr>\n",
       "      <th>std</th>\n",
       "      <td>10.100121</td>\n",
       "    </tr>\n",
       "    <tr>\n",
       "      <th>min</th>\n",
       "      <td>0.000000</td>\n",
       "    </tr>\n",
       "    <tr>\n",
       "      <th>25%</th>\n",
       "      <td>13.000000</td>\n",
       "    </tr>\n",
       "    <tr>\n",
       "      <th>50%</th>\n",
       "      <td>19.000000</td>\n",
       "    </tr>\n",
       "    <tr>\n",
       "      <th>75%</th>\n",
       "      <td>25.000000</td>\n",
       "    </tr>\n",
       "    <tr>\n",
       "      <th>max</th>\n",
       "      <td>112.000000</td>\n",
       "    </tr>\n",
       "  </tbody>\n",
       "</table>\n",
       "</div>"
      ],
      "text/plain": [
       "                   0\n",
       "count  369403.000000\n",
       "mean       20.605442\n",
       "std        10.100121\n",
       "min         0.000000\n",
       "25%        13.000000\n",
       "50%        19.000000\n",
       "75%        25.000000\n",
       "max       112.000000"
      ]
     },
     "execution_count": 35,
     "metadata": {},
     "output_type": "execute_result"
    }
   ],
   "source": [
    "df = pd.DataFrame(seg_len)\n",
    "df.describe()"
   ]
  },
  {
   "cell_type": "code",
   "execution_count": 13,
   "id": "0d92ee59",
   "metadata": {},
   "outputs": [
    {
     "data": {
      "text/plain": [
       "[[['风格', '简约'], ['材质', '牛仔布'], ['衣样式', '外套'], ['颜色', '白色']],\n",
       " [['衣款式', '破洞']],\n",
       " [['图案', '刺绣']]]"
      ]
     },
     "execution_count": 13,
     "metadata": {},
     "output_type": "execute_result"
    }
   ],
   "source": [
    "features"
   ]
  },
  {
   "cell_type": "code",
   "execution_count": 14,
   "id": "c4528609",
   "metadata": {},
   "outputs": [
    {
     "data": {
      "text/plain": [
       "['简约 而 不 简单 的 牛仔 外套 ， 白色 的 衣身 十分 百搭 。',\n",
       " '衣身 多处 有 做 旧 破洞 设计 ， 打破 单调乏味 ， 增加 一丝 造型 看点 。',\n",
       " '衣 身后 背处 有 趣味 刺绣 装饰 ， 丰富 层次感 ， 彰显 别样 时尚 。']"
      ]
     },
     "execution_count": 14,
     "metadata": {},
     "output_type": "execute_result"
    }
   ],
   "source": [
    "segs"
   ]
  },
  {
   "cell_type": "code",
   "execution_count": null,
   "id": "c5781f2f",
   "metadata": {},
   "outputs": [],
   "source": []
  }
 ],
 "metadata": {
  "kernelspec": {
   "display_name": "Python 3",
   "language": "python",
   "name": "python3"
  },
  "language_info": {
   "codemirror_mode": {
    "name": "ipython",
    "version": 3
   },
   "file_extension": ".py",
   "mimetype": "text/x-python",
   "name": "python",
   "nbconvert_exporter": "python",
   "pygments_lexer": "ipython3",
   "version": "3.6.13"
  },
  "toc": {
   "base_numbering": 1,
   "nav_menu": {},
   "number_sections": true,
   "sideBar": true,
   "skip_h1_title": false,
   "title_cell": "Table of Contents",
   "title_sidebar": "Contents",
   "toc_cell": false,
   "toc_position": {},
   "toc_section_display": true,
   "toc_window_display": false
  }
 },
 "nbformat": 4,
 "nbformat_minor": 5
}
