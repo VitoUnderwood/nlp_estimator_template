{
 "cells": [
  {
   "cell_type": "code",
   "execution_count": null,
   "id": "9e5041a0",
   "metadata": {
    "id": "9e5041a0"
   },
   "outputs": [],
   "source": [
    "?print"
   ]
  },
  {
   "cell_type": "code",
   "execution_count": null,
   "id": "4e74389e",
   "metadata": {
    "id": "4e74389e"
   },
   "outputs": [],
   "source": [
    "from IPython.core.interactiveshell import InteractiveShell \n",
    "InteractiveShell.ast_node_interactivity = \"all\"\n",
    "# %whos"
   ]
  },
  {
   "cell_type": "markdown",
   "id": "5535e1c1",
   "metadata": {
    "id": "5535e1c1"
   },
   "source": [
    "# 句子长度统计"
   ]
  },
  {
   "cell_type": "code",
   "execution_count": null,
   "id": "d1ef46f6",
   "metadata": {
    "id": "d1ef46f6",
    "outputId": "a43592fa-dd3a-4304-8d96-24572d72b4c1",
    "scrolled": true
   },
   "outputs": [
    {
     "name": "stderr",
     "output_type": "stream",
     "text": [
      "评论数据:   0%|\u001b[32m          \u001b[0m| 0/118796 [00:00<?, ?it/s]Building prefix dict from the default dictionary ...\n",
      "Loading model from cache /var/folders/3t/1m9xhcvj70jbv7z9vqsrdz2c0000gn/T/jieba.cache\n",
      "Loading model cost 0.536 seconds.\n",
      "Prefix dict has been built successfully.\n",
      "评论数据: 100%|\u001b[32m██████████\u001b[0m| 118796/118796 [00:56<00:00, 2120.66it/s]\n"
     ]
    }
   ],
   "source": [
    "# coding=utf-8\n",
    "import json\n",
    "import os\n",
    "import re\n",
    "import sys\n",
    "\n",
    "import jieba\n",
    "from tqdm import tqdm\n",
    "import pandas as pd\n",
    "\n",
    "sys.path.append(\"..\")\n",
    "\n",
    "from utils import dir_op\n",
    "\n",
    "\n",
    "def clean_text(text:str):\n",
    "    \"\"\"Clean text by removing unnecessary characters and altering the format of words.\n",
    "    nlg 任务的时候尽量保持原有的句子结构，不要去除停用词和标点，否则直接影响流畅程度\n",
    "    \"\"\"\n",
    "    text = re.sub(r\"\\s\", \"\", text)\n",
    "#     text = \" \".join(jieba.cut(text))\n",
    "\n",
    "    return text\n",
    "\n",
    "\n",
    "def main():\n",
    "    root_dir = \"data/phvm_data/data.jsonl\"\n",
    "    \n",
    "# {\n",
    "#     \"feature\": [[\"版型\", \"显瘦\"], [\"颜色\", \"灰色\"], [\"衣样式\", \"风衣\"], [\"衣样式\", \"外套\"], [\"衣袖型\", \"插肩袖\"], [\"衣门襟\", \"单排扣\"]], \n",
    "#     \"title\": \"\", \n",
    "#     \"largeSrc\": \"http://gw.alicdn.com/imgextra/i2/87171848/TB2BKKiahuTBuNkHFNRXXc9qpXa_!!87171848-2-daren.png_790x10000.jpg\", \n",
    "#     \"refSrc\": \"https://market.m.taobao.com/apps/market/content/index.html?&contentId=200550500064\", \n",
    "#     \"desc\": \"设计亮点这款中长款式的风衣外套，修身直筒的版型不仅仅穿着随意舒适，还能够轻松修饰身体轮廓更添高挑大气。时髦的插肩袖设计，也丰富了整体的层次感。衣门襟采用单排扣设计，显得厚实不失质感，很是吸引人的眼球。选用灰色调装饰，搭配起来也比较方便。\", \n",
    "#     \"file\": \"c0974de49d2bcf5cd49e1bb679f56d2c.jpg\"\n",
    "# }\n",
    "\n",
    "    with open(root_dir, \"r\") as fr:\n",
    "        with open(\"data/phvm_data/corpus.txt\", \"w\") as fw:\n",
    "            for line in tqdm(fr.readlines(), desc=\"评论数据\", colour=\"green\"):\n",
    "                tmp = json.loads(line)\n",
    "                desc = \" \".join(jieba.cut(clean_text(tmp[\"desc\"])))\n",
    "                fw.write(desc+'\\n')\n",
    "\n",
    "if __name__ == \"__main__\":\n",
    "    main()\n"
   ]
  },
  {
   "cell_type": "code",
   "execution_count": null,
   "id": "ef7544f6",
   "metadata": {
    "id": "ef7544f6",
    "outputId": "22c12ce5-a780-45cc-8fb3-3d6418706f1e"
   },
   "outputs": [
    {
     "name": "stderr",
     "output_type": "stream",
     "text": [
      "评论数据: 100%|\u001b[32m██████████\u001b[0m| 118796/118796 [00:00<00:00, 125489.39it/s]\n"
     ]
    }
   ],
   "source": [
    "import json\n",
    "import os\n",
    "import re\n",
    "import sys\n",
    "\n",
    "import jieba\n",
    "from tqdm import tqdm\n",
    "import pandas as pd\n",
    "\n",
    "root_dir = \"data/phvm_data/data.jsonl\"\n",
    "    \n",
    "# {\n",
    "#     \"feature\": [[\"版型\", \"显瘦\"], [\"颜色\", \"灰色\"], [\"衣样式\", \"风衣\"], [\"衣样式\", \"外套\"], [\"衣袖型\", \"插肩袖\"], [\"衣门襟\", \"单排扣\"]], \n",
    "#     \"title\": \"\", \n",
    "#     \"largeSrc\": \"http://gw.alicdn.com/imgextra/i2/87171848/TB2BKKiahuTBuNkHFNRXXc9qpXa_!!87171848-2-daren.png_790x10000.jpg\", \n",
    "#     \"refSrc\": \"https://market.m.taobao.com/apps/market/content/index.html?&contentId=200550500064\", \n",
    "#     \"desc\": \"设计亮点这款中长款式的风衣外套，修身直筒的版型不仅仅穿着随意舒适，还能够轻松修饰身体轮廓更添高挑大气。时髦的插肩袖设计，也丰富了整体的层次感。衣门襟采用单排扣设计，显得厚实不失质感，很是吸引人的眼球。选用灰色调装饰，搭配起来也比较方便。\", \n",
    "#     \"file\": \"c0974de49d2bcf5cd49e1bb679f56d2c.jpg\"\n",
    "# }\n",
    "\n",
    "features = {}\n",
    "\n",
    "with open(root_dir, \"r\") as fr:\n",
    "    for line in tqdm(fr.readlines(), desc=\"评论数据\", colour=\"green\"):\n",
    "        tmp = json.loads(line)\n",
    "        feat = tmp[\"feature\"]\n",
    "        for item in feat:\n",
    "            if item[0] in features.keys():\n",
    "                features[item[0]].add(item[1])\n",
    "            else:\n",
    "                features[item[0]] = set(item[1])"
   ]
  },
  {
   "cell_type": "code",
   "execution_count": null,
   "id": "cf695ccf",
   "metadata": {
    "id": "cf695ccf",
    "scrolled": true
   },
   "outputs": [],
   "source": [
    "import pickle\n",
    "key_ls = [\"<PAD>\", \"<UNK>\"]\n",
    "key_ls = key_ls + list(features.keys())\n",
    "\n",
    "# pickle.dump(key_ls, open(\"key.pkl\", \"wb\"))"
   ]
  },
  {
   "cell_type": "code",
   "execution_count": null,
   "id": "6985e90e",
   "metadata": {
    "id": "6985e90e"
   },
   "outputs": [],
   "source": [
    "val_ls = [\"<PAD>\", \"<UNK>\"]\n",
    "for _, v in features.items():\n",
    "    for s in v:\n",
    "        val_ls.append(s)\n",
    "pickle.dump(val_ls, open(\"val.pkl\", \"wb\"))"
   ]
  },
  {
   "cell_type": "code",
   "execution_count": null,
   "id": "6f8305b0",
   "metadata": {
    "id": "6f8305b0",
    "outputId": "40fd021a-a833-4751-e61e-ef3545d336fc"
   },
   "outputs": [
    {
     "data": {
      "text/plain": [
       "(494, 30)"
      ]
     },
     "execution_count": 16,
     "metadata": {},
     "output_type": "execute_result"
    }
   ],
   "source": [
    "len(val_ls), len(key_ls)"
   ]
  },
  {
   "cell_type": "code",
   "execution_count": null,
   "id": "03d8816b",
   "metadata": {
    "id": "03d8816b"
   },
   "outputs": [],
   "source": [
    "df = pd.read_csv(\"tmp.tvs\", sep=\"\\t\")"
   ]
  },
  {
   "cell_type": "code",
   "execution_count": null,
   "id": "7ed27064",
   "metadata": {
    "id": "7ed27064",
    "outputId": "382f870a-f94b-4dc2-e3ab-34dfe7a98c38",
    "scrolled": false
   },
   "outputs": [
    {
     "data": {
      "text/html": [
       "<div>\n",
       "<style scoped>\n",
       "    .dataframe tbody tr th:only-of-type {\n",
       "        vertical-align: middle;\n",
       "    }\n",
       "\n",
       "    .dataframe tbody tr th {\n",
       "        vertical-align: top;\n",
       "    }\n",
       "\n",
       "    .dataframe thead th {\n",
       "        text-align: right;\n",
       "    }\n",
       "</style>\n",
       "<table border=\"1\" class=\"dataframe\">\n",
       "  <thead>\n",
       "    <tr style=\"text-align: right;\">\n",
       "      <th></th>\n",
       "      <th>Unnamed: 0</th>\n",
       "      <th>feat_len</th>\n",
       "      <th>text_len</th>\n",
       "    </tr>\n",
       "  </thead>\n",
       "  <tbody>\n",
       "    <tr>\n",
       "      <th>count</th>\n",
       "      <td>118766.000000</td>\n",
       "      <td>118766.000000</td>\n",
       "      <td>118766.000000</td>\n",
       "    </tr>\n",
       "    <tr>\n",
       "      <th>mean</th>\n",
       "      <td>59382.500000</td>\n",
       "      <td>6.795825</td>\n",
       "      <td>114.206027</td>\n",
       "    </tr>\n",
       "    <tr>\n",
       "      <th>std</th>\n",
       "      <td>34284.935373</td>\n",
       "      <td>2.543822</td>\n",
       "      <td>24.848260</td>\n",
       "    </tr>\n",
       "    <tr>\n",
       "      <th>min</th>\n",
       "      <td>0.000000</td>\n",
       "      <td>1.000000</td>\n",
       "      <td>21.000000</td>\n",
       "    </tr>\n",
       "    <tr>\n",
       "      <th>25%</th>\n",
       "      <td>29691.250000</td>\n",
       "      <td>5.000000</td>\n",
       "      <td>98.000000</td>\n",
       "    </tr>\n",
       "    <tr>\n",
       "      <th>50%</th>\n",
       "      <td>59382.500000</td>\n",
       "      <td>7.000000</td>\n",
       "      <td>113.000000</td>\n",
       "    </tr>\n",
       "    <tr>\n",
       "      <th>75%</th>\n",
       "      <td>89073.750000</td>\n",
       "      <td>8.000000</td>\n",
       "      <td>129.000000</td>\n",
       "    </tr>\n",
       "    <tr>\n",
       "      <th>max</th>\n",
       "      <td>118765.000000</td>\n",
       "      <td>21.000000</td>\n",
       "      <td>204.000000</td>\n",
       "    </tr>\n",
       "  </tbody>\n",
       "</table>\n",
       "</div>"
      ],
      "text/plain": [
       "          Unnamed: 0       feat_len       text_len\n",
       "count  118766.000000  118766.000000  118766.000000\n",
       "mean    59382.500000       6.795825     114.206027\n",
       "std     34284.935373       2.543822      24.848260\n",
       "min         0.000000       1.000000      21.000000\n",
       "25%     29691.250000       5.000000      98.000000\n",
       "50%     59382.500000       7.000000     113.000000\n",
       "75%     89073.750000       8.000000     129.000000\n",
       "max    118765.000000      21.000000     204.000000"
      ]
     },
     "execution_count": 46,
     "metadata": {},
     "output_type": "execute_result"
    }
   ],
   "source": [
    "df.describe()"
   ]
  },
  {
   "cell_type": "code",
   "execution_count": null,
   "id": "7d7d38f6",
   "metadata": {
    "id": "7d7d38f6",
    "outputId": "34de413a-d97c-4df8-8a3d-1f3b074747f4",
    "scrolled": true
   },
   "outputs": [
    {
     "data": {
      "text/plain": [
       "Text(0.5, 0, 'Text char count')"
      ]
     },
     "execution_count": 51,
     "metadata": {},
     "output_type": "execute_result"
    },
    {
     "data": {
      "text/plain": [
       "Text(0.5, 1.0, 'Histogram of char count')"
      ]
     },
     "execution_count": 51,
     "metadata": {},
     "output_type": "execute_result"
    },
    {
     "data": {
      "image/png": "[encoded data removed]",
      "text/plain": [
       "<Figure size 432x288 with 1 Axes>"
      ]
     },
     "metadata": {
      "needs_background": "light"
     },
     "output_type": "display_data"
    }
   ],
   "source": [
    "import matplotlib.pyplot as plt\n",
    "_ = plt.hist(df['text_len'], bins=100)\n",
    "plt.xlabel('Text char count')\n",
    "plt.title(\"Histogram of char count\")"
   ]
  },
  {
   "cell_type": "code",
   "execution_count": null,
   "id": "11704d14",
   "metadata": {
    "id": "11704d14",
    "outputId": "36f66aa2-1630-4b01-d25b-f0d9857384a6"
   },
   "outputs": [
    {
     "data": {
      "text/plain": [
       "Text(0.5, 0, 'features count')"
      ]
     },
     "execution_count": 53,
     "metadata": {},
     "output_type": "execute_result"
    },
    {
     "data": {
      "text/plain": [
       "Text(0.5, 1.0, 'Histogram of char count')"
      ]
     },
     "execution_count": 53,
     "metadata": {},
     "output_type": "execute_result"
    },
    {
     "data": {
      "image/png": "[encoded data removed]",
      "text/plain": [
       "<Figure size 432x288 with 1 Axes>"
      ]
     },
     "metadata": {
      "needs_background": "light"
     },
     "output_type": "display_data"
    }
   ],
   "source": [
    "_ = plt.hist(df['feat_len'], bins=10)\n",
    "plt.xlabel('features count')\n",
    "plt.title(\"Histogram of features count\")"
   ]
  },
  {
   "cell_type": "code",
   "execution_count": null,
   "id": "a64540c0",
   "metadata": {
    "id": "a64540c0",
    "outputId": "01bce742-bfd1-438c-f54e-5fca579ffb76",
    "scrolled": true
   },
   "outputs": [
    {
     "data": {
      "text/plain": [
       "'{\"feature\": [[\"类型\", \"裤\"], [\"风格\", \"简约\"], [\"风格\", \"潮\"], [\"图案\", \"格子\"], [\"图案\", \"几何\"], [\"图案\", \"线条\"], [\"裤长\", \"七分裤\"], [\"裤型\", \"阔腿裤\"]], \"title\": \"\", \"largeSrc\": \"http://gw.alicdn.com/imgextra/i2/646511815/TB2KBRHb1ySBuNjy1zdXXXPxFXa_!!646511815-0-beehive-scenes.jpg_790x10000Q75.jpg\", \"refSrc\": \"https://market.m.taobao.com/apps/market/content/index.html?&contentId=200551261363\", \"desc\": \"这 款 阔腿裤 ， 整体 设计 简约 利落 ， 时尚 的 阔 腿 款式 带来 鲜明 的 几何 设计 美感 ， 褪去 传统 装束 的 厚重 与 臃肿 ， 更具 轻盈 美感 。 搭配 七分裤 长 修饰 出 挺拔 的 腿部 线条 ， 气质 的 格纹 图案 不 显 单调 ， 尽显 女性 优雅 气质 。 斜门襟 设计 潮流 出众 ， 让 你 时刻 保持 动人 的 女性 风采 。\", \"file\": \"fcc77fd7d27d564aed705d99b33e6a39.jpg\", \"专有属性\": [[\"裤长\", \"七分裤\"], [\"裤型\", \"阔腿裤\"], [\"类型\", \"裤\"]], \"共有属性\": [[\"风格\", \"简约\"], [\"风格\", \"潮\"], [\"图案\", \"格子\"], [\"图案\", \"几何\"], [\"图案\", \"线条\"]], \"segment\": {\"seg_0\": {\"segId\": 0, \"key_type\": [\"裤型\", \"图案\", \"风格\"], \"order\": [[\"风格\", \"简约\"], [\"裤型\", \"阔腿裤\"], [\"图案\", \"几何\"]], \"seg\": \"这 款 阔腿裤 ， 整体 设计 简约 利落 ， 时尚 的 阔 腿 款式 带来 鲜明 的 几何 设计 美感 ， 褪去 传统 装束 的 厚重 与 臃肿 ， 更具 轻盈 美感 。\"}, \"seg_1\": {\"segId\": 1, \"key_type\": [\"图案\", \"裤长\"], \"order\": [[\"裤长\", \"七分裤\"], [\"图案\", \"线条\"], [\"图案\", \"格子\"]], \"seg\": \"搭配 七分裤 长 修饰 出 挺拔 的 腿部 线条 ， 气质 的 格纹 图案 不 显 单调 ， 尽显 女性 优雅 气质 。\"}, \"seg_2\": {\"segId\": 2, \"key_type\": [\"风格\"], \"order\": [[\"风格\", \"潮\"]], \"seg\": \"斜门襟 设计 潮流 出众 ， 让 你 时刻 保持 动人 的 女性 风采 。\"}}}'"
      ]
     },
     "execution_count": 26,
     "metadata": {},
     "output_type": "execute_result"
    }
   ],
   "source": [
    "json.dumps(json.loads(\"\"\"{\"feature\": [[\"类型\", \"裤\"], [\"风格\", \"简约\"], [\"风格\", \"潮\"], [\"图案\", \"格子\"], [\"图案\", \"几何\"], [\"图案\", \"线条\"], [\"裤长\", \"七分裤\"], [\"裤型\", \"阔腿裤\"]], \"title\": \"\", \"largeSrc\": \"http://gw.alicdn.com/imgextra/i2/646511815/TB2KBRHb1ySBuNjy1zdXXXPxFXa_!!646511815-0-beehive-scenes.jpg_790x10000Q75.jpg\", \"refSrc\": \"https://market.m.taobao.com/apps/market/content/index.html?&contentId=200551261363\", \"desc\": \"这 款 阔腿裤 ， 整体 设计 简约 利落 ， 时尚 的 阔 腿 款式 带来 鲜明 的 几何 设计 美感 ， 褪去 传统 装束 的 厚重 与 臃肿 ， 更具 轻盈 美感 。 搭配 七分裤 长 修饰 出 挺拔 的 腿部 线条 ， 气质 的 格纹 图案 不 显 单调 ， 尽显 女性 优雅 气质 。 斜门襟 设计 潮流 出众 ， 让 你 时刻 保持 动人 的 女性 风采 。\", \"file\": \"fcc77fd7d27d564aed705d99b33e6a39.jpg\", \"专有属性\": [[\"裤长\", \"七分裤\"], [\"裤型\", \"阔腿裤\"], [\"类型\", \"裤\"]], \"共有属性\": [[\"风格\", \"简约\"], [\"风格\", \"潮\"], [\"图案\", \"格子\"], [\"图案\", \"几何\"], [\"图案\", \"线条\"]], \"segment\": {\"seg_0\": {\"segId\": 0, \"key_type\": [\"裤型\", \"图案\", \"风格\"], \"order\": [[\"风格\", \"简约\"], [\"裤型\", \"阔腿裤\"], [\"图案\", \"几何\"]], \"seg\": \"这 款 阔腿裤 ， 整体 设计 简约 利落 ， 时尚 的 阔 腿 款式 带来 鲜明 的 几何 设计 美感 ， 褪去 传统 装束 的 厚重 与 臃肿 ， 更具 轻盈 美感 。\"}, \"seg_1\": {\"segId\": 1, \"key_type\": [\"图案\", \"裤长\"], \"order\": [[\"裤长\", \"七分裤\"], [\"图案\", \"线条\"], [\"图案\", \"格子\"]], \"seg\": \"搭配 七分裤 长 修饰 出 挺拔 的 腿部 线条 ， 气质 的 格纹 图案 不 显 单调 ， 尽显 女性 优雅 气质 。\"}, \"seg_2\": {\"segId\": 2, \"key_type\": [\"风格\"], \"order\": [[\"风格\", \"潮\"]], \"seg\": \"斜门襟 设计 潮流 出众 ， 让 你 时刻 保持 动人 的 女性 风采 。\"}}}\n",
    "\"\"\"), ensure_ascii=False)"
   ]
  },
  {
   "cell_type": "code",
   "execution_count": null,
   "id": "603c8431",
   "metadata": {
    "id": "603c8431"
   },
   "outputs": [],
   "source": [
    "import pandas as pd\n",
    "import matplotlib.pyplot as plt\n",
    "\n",
    "df['text_len'] = df['text'].apply(lambda x: len(x.split(\" \")))\n",
    "print(df['text_len'].describe())"
   ]
  },
  {
   "cell_type": "code",
   "execution_count": null,
   "id": "fc8090f9",
   "metadata": {
    "id": "fc8090f9"
   },
   "outputs": [],
   "source": [
    "_ = plt.hist(df['text_len'], bins=100) # bins 数据划分区间\n",
    "plt.xlabel('Text char count')\n",
    "plt.title(\"Histogram of char count\")"
   ]
  },
  {
   "cell_type": "markdown",
   "id": "b66431e5",
   "metadata": {
    "id": "b66431e5"
   },
   "source": [
    "# 词频统计"
   ]
  },
  {
   "cell_type": "markdown",
   "id": "748d4893",
   "metadata": {
    "id": "748d4893"
   },
   "source": [
    "使用gensim训练好的的模型中含有vocab，是按照词频排序的"
   ]
  },
  {
   "cell_type": "code",
   "execution_count": null,
   "id": "414961db",
   "metadata": {
    "id": "414961db"
   },
   "outputs": [],
   "source": [
    "import pickle\n",
    "vocab = pickle.load(open(\"checkpoints/data2text/vocab.pkl\", \"rb\"))"
   ]
  },
  {
   "cell_type": "code",
   "execution_count": null,
   "id": "674d3762",
   "metadata": {
    "id": "674d3762",
    "outputId": "59172c84-3f51-44cd-f74e-4952b05894cc"
   },
   "outputs": [
    {
     "data": {
      "text/plain": [
       "17486"
      ]
     },
     "execution_count": 18,
     "metadata": {},
     "output_type": "execute_result"
    }
   ],
   "source": [
    "len(vocab)"
   ]
  },
  {
   "cell_type": "code",
   "execution_count": null,
   "id": "3ddce741",
   "metadata": {
    "id": "3ddce741",
    "outputId": "359a070c-b5b7-4b70-bba2-0e569518243f",
    "scrolled": true
   },
   "outputs": [
    {
     "data": {
      "text/plain": [
       "['<PAD>',\n",
       " '<S>',\n",
       " '<E>',\n",
       " '<UNK>',\n",
       " '，',\n",
       " '的',\n",
       " '。',\n",
       " '设计',\n",
       " '了',\n",
       " '<UNK>',\n",
       " '感',\n",
       " '时尚',\n",
       " '又',\n",
       " '是',\n",
       " '版型',\n",
       " '很',\n",
       " '让',\n",
       " '在',\n",
       " '采用',\n",
       " '气质',\n",
       " '舒适',\n",
       " '优雅',\n",
       " '有',\n",
       " '出',\n",
       " '上',\n",
       " '这',\n",
       " '穿',\n",
       " '也',\n",
       " '穿着',\n",
       " '和',\n",
       " '连衣裙',\n",
       " '线条',\n",
       " '款',\n",
       " '面料',\n",
       " '你',\n",
       " '修饰',\n",
       " '宽松',\n",
       " '与',\n",
       " '搭配',\n",
       " '精致',\n",
       " '小',\n",
       " '不',\n",
       " '个性',\n",
       " '简约',\n",
       " '显瘦',\n",
       " '整体',\n",
       " '气息',\n",
       " '经典',\n",
       " '身材',\n",
       " '能',\n",
       " '可以',\n",
       " '更加',\n",
       " '更',\n",
       " '性感',\n",
       " '同时',\n",
       " '好',\n",
       " '拼接',\n",
       " '衬衫',\n",
       " '而',\n",
       " '印花',\n",
       " '女性',\n",
       " '点缀',\n",
       " '装饰',\n",
       " '都',\n",
       " '人',\n",
       " '休闲',\n",
       " '效果',\n",
       " '非常',\n",
       " '复古',\n",
       " '彰显',\n",
       " '；',\n",
       " '造型',\n",
       " '上身',\n",
       " '带来',\n",
       " '增添',\n",
       " '轻松',\n",
       " '着',\n",
       " '视觉',\n",
       " '一款',\n",
       " '甜美',\n",
       " '显得',\n",
       " '还',\n",
       " '撞色',\n",
       " '十足',\n",
       " '裙摆',\n",
       " '清新',\n",
       " '条纹',\n",
       " '给',\n",
       " '更显',\n",
       " '剪裁',\n",
       " '时髦',\n",
       " '风格',\n",
       " '款式',\n",
       " '修身',\n",
       " '凸显',\n",
       " '展现',\n",
       " '感觉',\n",
       " '元素',\n",
       " '图案',\n",
       " '魅力']"
      ]
     },
     "execution_count": 20,
     "metadata": {},
     "output_type": "execute_result"
    }
   ],
   "source": [
    "vocab[:100]"
   ]
  },
  {
   "cell_type": "markdown",
   "id": "7843d41c",
   "metadata": {
    "id": "7843d41c"
   },
   "source": [
    "# 词云展示"
   ]
  },
  {
   "cell_type": "code",
   "execution_count": null,
   "id": "fed04010",
   "metadata": {
    "id": "fed04010",
    "outputId": "37c684b2-8130-48c6-c16b-a615768d7c27"
   },
   "outputs": [
    {
     "data": {
      "text/plain": [
       "<wordcloud.wordcloud.WordCloud at 0x7f854d43ab70>"
      ]
     },
     "execution_count": 5,
     "metadata": {},
     "output_type": "execute_result"
    }
   ],
   "source": [
    "import wordcloud\n",
    "import jieba\n",
    "import os\n",
    "\n",
    "save_dir = \"data/imgs\"\n",
    "font_path=\"/System/Library/fonts/PingFang.ttc\"\n",
    "\n",
    "txt = \"一百年前，中国人苦苦寻找适合中国国情的道路。君主立宪制、复辟帝制、议会制、多党制、总统制都想过了、试过了，结果都行不通。最后，中国选择了社会主义道路\"\n",
    "seg_list = \" \".join(jieba.cut(txt))\n",
    "w=wordcloud.WordCloud(font_path=font_path)\n",
    "w.generate(seg_list)\n",
    "w.to_file(os.path.join(save_dir, \"cloud.png\"))"
   ]
  },
  {
   "cell_type": "code",
   "execution_count": null,
   "id": "2fbaa7dc",
   "metadata": {
    "id": "2fbaa7dc"
   },
   "outputs": [],
   "source": [
    "from gensim.models import Word2Vec"
   ]
  },
  {
   "cell_type": "code",
   "execution_count": null,
   "id": "5cf3f50f",
   "metadata": {
    "id": "5cf3f50f"
   },
   "outputs": [],
   "source": [
    "model = Word2Vec.load(\"checkpoints/word2vec/word2vec.model\")"
   ]
  },
  {
   "cell_type": "code",
   "execution_count": null,
   "id": "eeb7e17e",
   "metadata": {
    "id": "eeb7e17e"
   },
   "outputs": [],
   "source": [
    "# 获取所有词\n",
    "vocab = model.wv.index2word\n",
    "# 获取所有向量\n",
    "word_vectors = model.wv.vectors"
   ]
  },
  {
   "cell_type": "code",
   "execution_count": null,
   "id": "7ccc9a67",
   "metadata": {
    "id": "7ccc9a67"
   },
   "outputs": [],
   "source": [
    "id2vec = model.wv.vectors.tolist()\n",
    "id2word = model.wv.index2word\n",
    "vocab = [\"<PAD>\", \"<S>\", \"<E>\", \"<UNK>\"]\n",
    "vectors = []\n",
    "\n",
    "for i in range(len(vocab)):\n",
    "    vectors.append(list(np.random.uniform(low=-0.1, high=0.1, size=(300,))))\n",
    "\n",
    "vocab = vocab + id2word\n",
    "vectors = vectors + id2vec"
   ]
  },
  {
   "cell_type": "code",
   "execution_count": null,
   "id": "2e4c8629",
   "metadata": {
    "id": "2e4c8629"
   },
   "outputs": [],
   "source": [
    "np.savetxt(\"vectors.txt\", vectors)"
   ]
  },
  {
   "cell_type": "code",
   "execution_count": null,
   "id": "0dcb89d9",
   "metadata": {
    "id": "0dcb89d9"
   },
   "outputs": [],
   "source": [
    "word2idx = {word: idx for idx, word in enumerate(vocab)}\n",
    "idx2word = {idx: word for idx, word in enumerate(vocab)}"
   ]
  },
  {
   "cell_type": "code",
   "execution_count": null,
   "id": "66eed3c1",
   "metadata": {
    "id": "66eed3c1"
   },
   "outputs": [],
   "source": [
    "import tensorflow as tf"
   ]
  },
  {
   "cell_type": "code",
   "execution_count": null,
   "id": "b5943fa8",
   "metadata": {
    "id": "b5943fa8"
   },
   "outputs": [],
   "source": [
    "word_embedding = tf.get_variable(\"word_embedding\", dtype=tf.float32,\n",
    "                                 initializer=tf.constant(word_vector, dtype=tf.float32))"
   ]
  },
  {
   "cell_type": "code",
   "execution_count": null,
   "id": "a6f01361",
   "metadata": {
    "id": "a6f01361"
   },
   "outputs": [],
   "source": [
    "x = tf.nn.embedding_lookup(word_embedding, 0)"
   ]
  },
  {
   "cell_type": "code",
   "execution_count": null,
   "id": "f8d6726e",
   "metadata": {
    "code_folding": [],
    "id": "f8d6726e",
    "scrolled": false
   },
   "outputs": [],
   "source": [
    "with tf.Session() as sess:\n",
    "    init = tf.global_variables_initializer()\n",
    "    sess.run(init)\n",
    "    z = sess.run(x)"
   ]
  },
  {
   "cell_type": "code",
   "execution_count": null,
   "id": "dd84ea44",
   "metadata": {
    "id": "dd84ea44"
   },
   "outputs": [],
   "source": [
    "import numpy as np"
   ]
  },
  {
   "cell_type": "code",
   "execution_count": null,
   "id": "704e80ff",
   "metadata": {
    "id": "704e80ff",
    "outputId": "01f402b0-ce23-4462-a3bd-38dabe921da1",
    "scrolled": true
   },
   "outputs": [
    {
     "ename": "SyntaxError",
     "evalue": "unexpected EOF while parsing (<ipython-input-7-32cff6d290d1>, line 1)",
     "output_type": "error",
     "traceback": [
      "\u001b[0;36m  File \u001b[0;32m\"<ipython-input-7-32cff6d290d1>\"\u001b[0;36m, line \u001b[0;32m1\u001b[0m\n\u001b[0;31m    len(list(np.random.uniform(low=-0.1, high=0.1, size=300))\u001b[0m\n\u001b[0m                                                             ^\u001b[0m\n\u001b[0;31mSyntaxError\u001b[0m\u001b[0;31m:\u001b[0m unexpected EOF while parsing\n"
     ]
    }
   ],
   "source": [
    "len(list(np.random.uniform(low=-0.1, high=0.1, size=))"
   ]
  },
  {
   "cell_type": "markdown",
   "id": "4befc01f",
   "metadata": {
    "id": "4befc01f"
   },
   "source": [
    "# 处理新数据"
   ]
  },
  {
   "cell_type": "code",
   "execution_count": null,
   "id": "B_rf-_enRV2t",
   "metadata": {
    "colab": {
     "base_uri": "https://localhost:8080/"
    },
    "executionInfo": {
     "elapsed": 349,
     "status": "ok",
     "timestamp": 1640396883344,
     "user": {
      "displayName": "wang vito",
      "photoUrl": "https://lh3.googleusercontent.com/a/default-user=s64",
      "userId": "05301294385345520847"
     },
     "user_tz": -480
    },
    "id": "B_rf-_enRV2t",
    "outputId": "01d94524-4d0b-47f7-d19e-a3e6589f06db"
   },
   "outputs": [
    {
     "name": "stdout",
     "output_type": "stream",
     "text": [
      "/content/drive/MyDrive/nlp\n",
      "/content/drive/MyDrive/nlp\n"
     ]
    }
   ],
   "source": [
    "%cd /content/drive/MyDrive/nlp\n",
    "!pwd"
   ]
  },
  {
   "cell_type": "code",
   "execution_count": null,
   "id": "1554f2bc",
   "metadata": {
    "id": "1554f2bc"
   },
   "outputs": [],
   "source": [
    "import json\n",
    "with open(\"data/data2text/train.json\", \"r\") as f:\n",
    "    lines = f.readlines()"
   ]
  },
  {
   "cell_type": "code",
   "execution_count": null,
   "id": "c7a3a93e",
   "metadata": {
    "id": "c7a3a93e"
   },
   "outputs": [],
   "source": [
    "import jieba\n",
    "feat_len = []\n",
    "seg_len = []\n",
    "with open(\"data/data2text/corpus.txt\", \"w\") as f:\n",
    "    for line in lines:\n",
    "        record = json.loads(line)\n",
    "        for _, seg in record[\"segment\"].items():\n",
    "            feat_len.append(len(seg[\"order\"]))\n",
    "            f.write(\" \".join(list(jieba.cut(\"\".join(seg[\"seg\"])))) + \"\\n\")\n",
    "#             tokens = seg[\"seg\"].split()\n",
    "#             seg_len.append(len(tokens))"
   ]
  },
  {
   "cell_type": "code",
   "execution_count": null,
   "id": "4a5f6f99",
   "metadata": {
    "colab": {
     "base_uri": "https://localhost:8080/",
     "height": 361
    },
    "executionInfo": {
     "elapsed": 487,
     "status": "ok",
     "timestamp": 1640396900075,
     "user": {
      "displayName": "wang vito",
      "photoUrl": "https://lh3.googleusercontent.com/a/default-user=s64",
      "userId": "05301294385345520847"
     },
     "user_tz": -480
    },
    "id": "4a5f6f99",
    "outputId": "34be53fb-2a05-4425-f25e-c27708057161"
   },
   "outputs": [
    {
     "data": {
      "text/html": [
       "\n",
       "  <div id=\"df-fb996fad-b4a8-4cef-85be-4574e05a3b62\">\n",
       "    <div class=\"colab-df-container\">\n",
       "      <div>\n",
       "<style scoped>\n",
       "    .dataframe tbody tr th:only-of-type {\n",
       "        vertical-align: middle;\n",
       "    }\n",
       "\n",
       "    .dataframe tbody tr th {\n",
       "        vertical-align: top;\n",
       "    }\n",
       "\n",
       "    .dataframe thead th {\n",
       "        text-align: right;\n",
       "    }\n",
       "</style>\n",
       "<table border=\"1\" class=\"dataframe\">\n",
       "  <thead>\n",
       "    <tr style=\"text-align: right;\">\n",
       "      <th></th>\n",
       "      <th>0</th>\n",
       "    </tr>\n",
       "  </thead>\n",
       "  <tbody>\n",
       "    <tr>\n",
       "      <th>count</th>\n",
       "      <td>369403.000000</td>\n",
       "    </tr>\n",
       "    <tr>\n",
       "      <th>mean</th>\n",
       "      <td>2.153651</td>\n",
       "    </tr>\n",
       "    <tr>\n",
       "      <th>std</th>\n",
       "      <td>1.634395</td>\n",
       "    </tr>\n",
       "    <tr>\n",
       "      <th>min</th>\n",
       "      <td>0.000000</td>\n",
       "    </tr>\n",
       "    <tr>\n",
       "      <th>25%</th>\n",
       "      <td>1.000000</td>\n",
       "    </tr>\n",
       "    <tr>\n",
       "      <th>50%</th>\n",
       "      <td>2.000000</td>\n",
       "    </tr>\n",
       "    <tr>\n",
       "      <th>75%</th>\n",
       "      <td>3.000000</td>\n",
       "    </tr>\n",
       "    <tr>\n",
       "      <th>max</th>\n",
       "      <td>20.000000</td>\n",
       "    </tr>\n",
       "  </tbody>\n",
       "</table>\n",
       "</div>\n",
       "      <button class=\"colab-df-convert\" onclick=\"convertToInteractive('df-fb996fad-b4a8-4cef-85be-4574e05a3b62')\"\n",
       "              title=\"Convert this dataframe to an interactive table.\"\n",
       "              style=\"display:none;\">\n",
       "        \n",
       "  <svg xmlns=\"http://www.w3.org/2000/svg\" height=\"24px\"viewBox=\"0 0 24 24\"\n",
       "       width=\"24px\">\n",
       "    <path d=\"M0 0h24v24H0V0z\" fill=\"none\"/>\n",
       "    <path d=\"M18.56 5.44l.94 2.06.94-2.06 2.06-.94-2.06-.94-.94-2.06-.94 2.06-2.06.94zm-11 1L8.5 8.5l.94-2.06 2.06-.94-2.06-.94L8.5 2.5l-.94 2.06-2.06.94zm10 10l.94 2.06.94-2.06 2.06-.94-2.06-.94-.94-2.06-.94 2.06-2.06.94z\"/><path d=\"M17.41 7.96l-1.37-1.37c-.4-.4-.92-.59-1.43-.59-.52 0-1.04.2-1.43.59L10.3 9.45l-7.72 7.72c-.78.78-.78 2.05 0 2.83L4 21.41c.39.39.9.59 1.41.59.51 0 1.02-.2 1.41-.59l7.78-7.78 2.81-2.81c.8-.78.8-2.07 0-2.86zM5.41 20L4 18.59l7.72-7.72 1.47 1.35L5.41 20z\"/>\n",
       "  </svg>\n",
       "      </button>\n",
       "      \n",
       "  <style>\n",
       "    .colab-df-container {\n",
       "      display:flex;\n",
       "      flex-wrap:wrap;\n",
       "      gap: 12px;\n",
       "    }\n",
       "\n",
       "    .colab-df-convert {\n",
       "      background-color: #E8F0FE;\n",
       "      border: none;\n",
       "      border-radius: 50%;\n",
       "      cursor: pointer;\n",
       "      display: none;\n",
       "      fill: #1967D2;\n",
       "      height: 32px;\n",
       "      padding: 0 0 0 0;\n",
       "      width: 32px;\n",
       "    }\n",
       "\n",
       "    .colab-df-convert:hover {\n",
       "      background-color: #E2EBFA;\n",
       "      box-shadow: 0px 1px 2px rgba(60, 64, 67, 0.3), 0px 1px 3px 1px rgba(60, 64, 67, 0.15);\n",
       "      fill: #174EA6;\n",
       "    }\n",
       "\n",
       "    [theme=dark] .colab-df-convert {\n",
       "      background-color: #3B4455;\n",
       "      fill: #D2E3FC;\n",
       "    }\n",
       "\n",
       "    [theme=dark] .colab-df-convert:hover {\n",
       "      background-color: #434B5C;\n",
       "      box-shadow: 0px 1px 3px 1px rgba(0, 0, 0, 0.15);\n",
       "      filter: drop-shadow(0px 1px 2px rgba(0, 0, 0, 0.3));\n",
       "      fill: #FFFFFF;\n",
       "    }\n",
       "  </style>\n",
       "\n",
       "      <script>\n",
       "        const buttonEl =\n",
       "          document.querySelector('#df-fb996fad-b4a8-4cef-85be-4574e05a3b62 button.colab-df-convert');\n",
       "        buttonEl.style.display =\n",
       "          google.colab.kernel.accessAllowed ? 'block' : 'none';\n",
       "\n",
       "        async function convertToInteractive(key) {\n",
       "          const element = document.querySelector('#df-fb996fad-b4a8-4cef-85be-4574e05a3b62');\n",
       "          const dataTable =\n",
       "            await google.colab.kernel.invokeFunction('convertToInteractive',\n",
       "                                                     [key], {});\n",
       "          if (!dataTable) return;\n",
       "\n",
       "          const docLinkHtml = 'Like what you see? Visit the ' +\n",
       "            '<a target=\"_blank\" href=https://colab.research.google.com/notebooks/data_table.ipynb>data table notebook</a>'\n",
       "            + ' to learn more about interactive tables.';\n",
       "          element.innerHTML = '';\n",
       "          dataTable['output_type'] = 'display_data';\n",
       "          await google.colab.output.renderOutput(dataTable, element);\n",
       "          const docLink = document.createElement('div');\n",
       "          docLink.innerHTML = docLinkHtml;\n",
       "          element.appendChild(docLink);\n",
       "        }\n",
       "      </script>\n",
       "    </div>\n",
       "  </div>\n",
       "  "
      ],
      "text/plain": [
       "                   0\n",
       "count  369403.000000\n",
       "mean        2.153651\n",
       "std         1.634395\n",
       "min         0.000000\n",
       "25%         1.000000\n",
       "50%         2.000000\n",
       "75%         3.000000\n",
       "max        20.000000"
      ]
     },
     "execution_count": 9,
     "metadata": {},
     "output_type": "execute_result"
    }
   ],
   "source": [
    "import pandas as pd\n",
    "df = pd.DataFrame(feat_len)\n",
    "df.describe()"
   ]
  },
  {
   "cell_type": "code",
   "execution_count": null,
   "id": "f72e894c",
   "metadata": {
    "colab": {
     "base_uri": "https://localhost:8080/",
     "height": 1000
    },
    "executionInfo": {
     "elapsed": 438,
     "status": "error",
     "timestamp": 1640396936267,
     "user": {
      "displayName": "wang vito",
      "photoUrl": "https://lh3.googleusercontent.com/a/default-user=s64",
      "userId": "05301294385345520847"
     },
     "user_tz": -480
    },
    "id": "f72e894c",
    "outputId": "ebadd2c4-ece5-4e3b-b3b8-840a36ce8e45"
   },
   "outputs": [
    {
     "ename": "ValueError",
     "evalue": "ignored",
     "output_type": "error",
     "traceback": [
      "\u001b[0;31m---------------------------------------------------------------------------\u001b[0m",
      "\u001b[0;31mValueError\u001b[0m                                Traceback (most recent call last)",
      "\u001b[0;32m<ipython-input-10-3ef455d71031>\u001b[0m in \u001b[0;36m<module>\u001b[0;34m()\u001b[0m\n\u001b[1;32m      1\u001b[0m \u001b[0mdf\u001b[0m \u001b[0;34m=\u001b[0m \u001b[0mpd\u001b[0m\u001b[0;34m.\u001b[0m\u001b[0mDataFrame\u001b[0m\u001b[0;34m(\u001b[0m\u001b[0mseg_len\u001b[0m\u001b[0;34m)\u001b[0m\u001b[0;34m\u001b[0m\u001b[0;34m\u001b[0m\u001b[0m\n\u001b[0;32m----> 2\u001b[0;31m \u001b[0mdf\u001b[0m\u001b[0;34m.\u001b[0m\u001b[0mdescribe\u001b[0m\u001b[0;34m(\u001b[0m\u001b[0;34m)\u001b[0m\u001b[0;34m\u001b[0m\u001b[0;34m\u001b[0m\u001b[0m\n\u001b[0m",
      "\u001b[0;32m/usr/local/lib/python3.7/dist-packages/pandas/core/generic.py\u001b[0m in \u001b[0;36mdescribe\u001b[0;34m(self, percentiles, include, exclude, datetime_is_numeric)\u001b[0m\n\u001b[1;32m   9978\u001b[0m         \"\"\"\n\u001b[1;32m   9979\u001b[0m         \u001b[0;32mif\u001b[0m \u001b[0mself\u001b[0m\u001b[0;34m.\u001b[0m\u001b[0mndim\u001b[0m \u001b[0;34m==\u001b[0m \u001b[0;36m2\u001b[0m \u001b[0;32mand\u001b[0m \u001b[0mself\u001b[0m\u001b[0;34m.\u001b[0m\u001b[0mcolumns\u001b[0m\u001b[0;34m.\u001b[0m\u001b[0msize\u001b[0m \u001b[0;34m==\u001b[0m \u001b[0;36m0\u001b[0m\u001b[0;34m:\u001b[0m\u001b[0;34m\u001b[0m\u001b[0;34m\u001b[0m\u001b[0m\n\u001b[0;32m-> 9980\u001b[0;31m             \u001b[0;32mraise\u001b[0m \u001b[0mValueError\u001b[0m\u001b[0;34m(\u001b[0m\u001b[0;34m\"Cannot describe a DataFrame without columns\"\u001b[0m\u001b[0;34m)\u001b[0m\u001b[0;34m\u001b[0m\u001b[0;34m\u001b[0m\u001b[0m\n\u001b[0m\u001b[1;32m   9981\u001b[0m \u001b[0;34m\u001b[0m\u001b[0m\n\u001b[1;32m   9982\u001b[0m         \u001b[0;32mif\u001b[0m \u001b[0mpercentiles\u001b[0m \u001b[0;32mis\u001b[0m \u001b[0;32mnot\u001b[0m \u001b[0;32mNone\u001b[0m\u001b[0;34m:\u001b[0m\u001b[0;34m\u001b[0m\u001b[0;34m\u001b[0m\u001b[0m\n",
      "\u001b[0;31mValueError\u001b[0m: Cannot describe a DataFrame without columns"
     ]
    }
   ],
   "source": [
    "df = pd.DataFrame(seg_len)\n",
    "df.describe()"
   ]
  },
  {
   "cell_type": "code",
   "execution_count": null,
   "id": "0d92ee59",
   "metadata": {
    "id": "0d92ee59",
    "outputId": "82b1a06b-8ed3-4b78-9cbc-e7c5a95e3844"
   },
   "outputs": [
    {
     "data": {
      "text/plain": [
       "[[['风格', '简约'], ['材质', '牛仔布'], ['衣样式', '外套'], ['颜色', '白色']],\n",
       " [['衣款式', '破洞']],\n",
       " [['图案', '刺绣']]]"
      ]
     },
     "execution_count": 13,
     "metadata": {},
     "output_type": "execute_result"
    }
   ],
   "source": [
    "features"
   ]
  },
  {
   "cell_type": "code",
   "execution_count": null,
   "id": "c4528609",
   "metadata": {
    "id": "c4528609",
    "outputId": "8f3b6e9c-3bd3-443d-d1a6-4667a9274a32"
   },
   "outputs": [
    {
     "data": {
      "text/plain": [
       "['简约 而 不 简单 的 牛仔 外套 ， 白色 的 衣身 十分 百搭 。',\n",
       " '衣身 多处 有 做 旧 破洞 设计 ， 打破 单调乏味 ， 增加 一丝 造型 看点 。',\n",
       " '衣 身后 背处 有 趣味 刺绣 装饰 ， 丰富 层次感 ， 彰显 别样 时尚 。']"
      ]
     },
     "execution_count": 14,
     "metadata": {},
     "output_type": "execute_result"
    }
   ],
   "source": [
    "segs"
   ]
  },
  {
   "cell_type": "code",
   "execution_count": 1,
   "id": "0cc642be",
   "metadata": {},
   "outputs": [
    {
     "name": "stdout",
     "output_type": "stream",
     "text": [
      "WARNING:tensorflow:From <ipython-input-1-33bd1cc1f849>:3: TFRecordReader.__init__ (from tensorflow.python.ops.io_ops) is deprecated and will be removed in a future version.\n",
      "Instructions for updating:\n",
      "Queue-based input pipelines have been replaced by `tf.data`. Use `tf.data.TFRecordDataset`.\n"
     ]
    }
   ],
   "source": [
    "import tensorflow as tf\n",
    "import numpy as np\n",
    "reader = tf.TFRecordReader()"
   ]
  },
  {
   "cell_type": "code",
   "execution_count": 3,
   "id": "76ecab6a",
   "metadata": {},
   "outputs": [],
   "source": [
    "d = tf.data.TFRecordDataset(\"checkpoints/data2text/train.tf_record\")\n",
    "def _decode_record(record):\n",
    "    \"\"\"Decodes a record to a TensorFlow example.\"\"\"\n",
    "    features = {\n",
    "            \"cate_id\": tf.FixedLenFeature((), tf.string),\n",
    "            \"key_input_ids\": tf.FixedLenFeature((), tf.string),\n",
    "            \"val_input_ids\": tf.FixedLenFeature((), tf.string),\n",
    "            \"text_ids\": tf.FixedLenFeature((), tf.string),\n",
    "            \"outputs_ids\": tf.FixedLenFeature((), tf.string),\n",
    "            \"outputs_shape\": tf.FixedLenFeature((), tf.string),\n",
    "            \"groups_ids\": tf.FixedLenFeature((), tf.string),\n",
    "            \"groups_shape\": tf.FixedLenFeature((), tf.string)\n",
    "        }\n",
    "    raw_example = tf.parse_single_example(record, features)\n",
    "    # tf.Example only supports tf.int64, but the TPU only supports tf.int32.\n",
    "    # So cast all int64 to int32.\n",
    "    # for name in list(example.keys()):\n",
    "    #     t = example[name]\n",
    "    #     if t.dtype == tf.int64:\n",
    "    #         t = tf.to_int32(t)\n",
    "    #     example[name] = t\n",
    "    example = {\n",
    "            'cate_id': tf.decode_raw(raw_example['cate_id'], tf.int32),\n",
    "            'key_input_ids': tf.decode_raw(raw_example['key_input_ids'], tf.int32),\n",
    "            'val_input_ids': tf.decode_raw(raw_example['val_input_ids'], tf.int32),\n",
    "            'text_ids': tf.decode_raw(raw_example['text_ids'], tf.int32),\n",
    "            'outputs_ids': tf.reshape(tf.decode_raw(raw_example['outputs_ids'], tf.int32),\n",
    "                                      tf.decode_raw(raw_example['outputs_shape'], tf.int32)),\n",
    "            # 'outputs_shape': tf.decode_raw(raw_example['outputs_shape'], tf.int32),\n",
    "            'groups_ids': tf.reshape(tf.decode_raw(raw_example['groups_ids'], tf.int32),\n",
    "                                     tf.decode_raw(raw_example['groups_shape'], tf.int32)),\n",
    "            # 'groups_shape': tf.decode_raw(raw_example['groups_shape'], tf.int32)\n",
    "        }\n",
    "    return example\n",
    "\n",
    "d = d.map(_decode_record)\n",
    "\n",
    "d = d.repeat()\n",
    "d = d.shuffle(buffer_size=10000)\n",
    "\n",
    "padded_shapes = {\n",
    "    'cate_id': tf.TensorShape([None]),  # [] Scalar elements, no padding.\n",
    "    'key_input_ids': tf.TensorShape([None]),  # [None] Vector elements, padded to longest.\n",
    "    'val_input_ids': tf.TensorShape([None]),  # [None, None]Matrix elements, padded to longest\n",
    "    'text_ids': tf.TensorShape([None]),\n",
    "    'outputs_ids': tf.TensorShape([None, None]),\n",
    "    'groups_ids': tf.TensorShape([None, None])\n",
    "}\n",
    "\n",
    "\n",
    "d = d.padded_batch(batch_size=4,\n",
    "                   padded_shapes=padded_shapes)\n",
    "iterator = d.make_one_shot_iterator()\n",
    "next_data = iterator.get_next()\n",
    "with tf.Session() as sess:\n",
    "    data = sess.run(next_data)"
   ]
  },
  {
   "cell_type": "code",
   "execution_count": 4,
   "id": "cfff5d50",
   "metadata": {
    "scrolled": true
   },
   "outputs": [
    {
     "name": "stdout",
     "output_type": "stream",
     "text": [
      "cate_id (4, 1)\n",
      "key_input_ids (4, 9)\n",
      "val_input_ids (4, 9)\n",
      "text_ids (4, 69)\n",
      "outputs_ids (4, 4, 55)\n",
      "groups_ids (4, 4, 7)\n"
     ]
    }
   ],
   "source": [
    "for k, v in data.items():\n",
    "    print(k, data[k].shape)"
   ]
  },
  {
   "cell_type": "code",
   "execution_count": 5,
   "id": "a084eae9",
   "metadata": {
    "scrolled": true
   },
   "outputs": [
    {
     "data": {
      "text/plain": [
       "{'cate_id': array([[103],\n",
       "        [256],\n",
       "        [103],\n",
       "        [103]], dtype=int32),\n",
       " 'key_input_ids': array([[ 7,  8,  8,  8,  4, 10, 16, 27,  0],\n",
       "        [ 7, 11,  8, 25, 13, 24,  0,  0,  0],\n",
       "        [ 7,  2, 11, 12, 12,  4, 10, 20, 20],\n",
       "        [ 7, 12,  6, 20, 20,  0,  0,  0,  0]], dtype=int32),\n",
       " 'val_input_ids': array([[103, 134, 109, 128,  65, 346, 490, 478,   0],\n",
       "        [256, 208, 137,   1, 257, 444,   0,   0,   0],\n",
       "        [103,   4, 213, 239, 217,  57,   1, 408, 459],\n",
       "        [103, 239, 445, 413, 445,   0,   0,   0,   0]], dtype=int32),\n",
       " 'text_ids': array([[  128,    91,     7,     5,    12,   247,   472,   467,     5,\n",
       "           118,   620,     5,     7,   232,   629,   572,   256,  1864,\n",
       "             5,    58,   231,     5,     7,   288,     4,    58,   231,\n",
       "           383,     5,    91,     5,     7,   353,  2295,   247,   118,\n",
       "           201,     5,    94,    13,    17,   702,     5,  1771,     4,\n",
       "           206,    81,    41,    11,    13,    17,    89,     5,  1637,\n",
       "             6,     0,     0,     0,     0,     0,     0,     0,     0,\n",
       "             0,     0,     0,     0,     0,     0],\n",
       "        [ 1177,   249,     4,   500,  1910,     4,   330,   168,   844,\n",
       "          4859,     6,   259,     5,   238,   174,     4,   402,     5,\n",
       "            73,     8,   216,     9,     6,   924,  1884,     4,   357,\n",
       "          1123,    56,     5,   267,     4,  2435,   864,  4588,   100,\n",
       "           113,   876,     4,  5591,   400,   864,   151,   812,   876,\n",
       "             0,     0,     0,     0,     0,     0,     0,     0,     0,\n",
       "             0,     0,     0,     0,     0,     0,     0,     0,     0,\n",
       "             0,     0,     0,     0,     0,     0],\n",
       "        [   12,    15,   457,  3399,     5,    45,     4,   422,  1064,\n",
       "           570, 13417,     4,   484,   519,     4,  1186,   203,     4,\n",
       "          1755,   979,     6,    44,     5,    14,    42,   101,     4,\n",
       "            16,    35,     5,  1550,  7977,   503,   159,     5,    10,\n",
       "           316,     6,   117,    96,   106,     5,     7,     4,    42,\n",
       "           995,    95,   187,   770,     5,   392,     4,  1144,  1061,\n",
       "             6,    98,   157,   718,   156,   160,     5,    54,     4,\n",
       "           386,   196,     4,   306,   127,     6],\n",
       "        [  379,    36,   169,     5,  1463,  9550,     7,   429,    44,\n",
       "           201,   143,     5,   161,  1443,     5,   456,     6,    42,\n",
       "             4,   281,   652,     5,  1452,    61,     4,   483,   465,\n",
       "             5,   138,  1014,    95,     6,   379,   836,  1230,  1398,\n",
       "           881,  2405,   122,     4,    52,    73,     8,   127,     6,\n",
       "          1511, 50263,     3, 50264,     8,   215,     4,    18,    26,\n",
       "           789,    51,     5,   112,     4,  1822, 50263,     3, 50264,\n",
       "           536,     4,    81,    51,    10,     6]], dtype=int32),\n",
       " 'outputs_ids': array([[[  128,    91,     7,     5,    12,   247,   472,   467,     5,\n",
       "            118,   620,     5,     7,   232,   629,   572,   256,  1864,\n",
       "              5,    58,   231,     5,     7,   288,     4,    58,   231,\n",
       "            383,     5,    91,     5,     7,   353,  2295,   247,   118,\n",
       "            201,     5,    94,    13,    17,   702,     5,  1771,     4,\n",
       "            206,    81,    41,    11,    13,    17,    89,     5,  1637,\n",
       "              6],\n",
       "         [    0,     0,     0,     0,     0,     0,     0,     0,     0,\n",
       "              0,     0,     0,     0,     0,     0,     0,     0,     0,\n",
       "              0,     0,     0,     0,     0,     0,     0,     0,     0,\n",
       "              0,     0,     0,     0,     0,     0,     0,     0,     0,\n",
       "              0,     0,     0,     0,     0,     0,     0,     0,     0,\n",
       "              0,     0,     0,     0,     0,     0,     0,     0,     0,\n",
       "              0],\n",
       "         [    0,     0,     0,     0,     0,     0,     0,     0,     0,\n",
       "              0,     0,     0,     0,     0,     0,     0,     0,     0,\n",
       "              0,     0,     0,     0,     0,     0,     0,     0,     0,\n",
       "              0,     0,     0,     0,     0,     0,     0,     0,     0,\n",
       "              0,     0,     0,     0,     0,     0,     0,     0,     0,\n",
       "              0,     0,     0,     0,     0,     0,     0,     0,     0,\n",
       "              0],\n",
       "         [    0,     0,     0,     0,     0,     0,     0,     0,     0,\n",
       "              0,     0,     0,     0,     0,     0,     0,     0,     0,\n",
       "              0,     0,     0,     0,     0,     0,     0,     0,     0,\n",
       "              0,     0,     0,     0,     0,     0,     0,     0,     0,\n",
       "              0,     0,     0,     0,     0,     0,     0,     0,     0,\n",
       "              0,     0,     0,     0,     0,     0,     0,     0,     0,\n",
       "              0]],\n",
       " \n",
       "        [[ 1177,   249,     4,   500,  1910,     4,   330,   168,   844,\n",
       "           4859,     6,     0,     0,     0,     0,     0,     0,     0,\n",
       "              0,     0,     0,     0,     0,     0,     0,     0,     0,\n",
       "              0,     0,     0,     0,     0,     0,     0,     0,     0,\n",
       "              0,     0,     0,     0,     0,     0,     0,     0,     0,\n",
       "              0,     0,     0,     0,     0,     0,     0,     0,     0,\n",
       "              0],\n",
       "         [  259,     5,   238,   174,     4,   402,     5,    73,     8,\n",
       "            216,     9,     6,     0,     0,     0,     0,     0,     0,\n",
       "              0,     0,     0,     0,     0,     0,     0,     0,     0,\n",
       "              0,     0,     0,     0,     0,     0,     0,     0,     0,\n",
       "              0,     0,     0,     0,     0,     0,     0,     0,     0,\n",
       "              0,     0,     0,     0,     0,     0,     0,     0,     0,\n",
       "              0],\n",
       "         [  924,  1884,     4,   357,  1123,    56,     5,   267,     4,\n",
       "           2435,   864,  4588,   100,   113,   876,     4,  5591,   400,\n",
       "            864,   151,   812,   876,     0,     0,     0,     0,     0,\n",
       "              0,     0,     0,     0,     0,     0,     0,     0,     0,\n",
       "              0,     0,     0,     0,     0,     0,     0,     0,     0,\n",
       "              0,     0,     0,     0,     0,     0,     0,     0,     0,\n",
       "              0],\n",
       "         [    0,     0,     0,     0,     0,     0,     0,     0,     0,\n",
       "              0,     0,     0,     0,     0,     0,     0,     0,     0,\n",
       "              0,     0,     0,     0,     0,     0,     0,     0,     0,\n",
       "              0,     0,     0,     0,     0,     0,     0,     0,     0,\n",
       "              0,     0,     0,     0,     0,     0,     0,     0,     0,\n",
       "              0,     0,     0,     0,     0,     0,     0,     0,     0,\n",
       "              0]],\n",
       " \n",
       "        [[   12,    15,   457,  3399,     5,    45,     4,   422,  1064,\n",
       "            570, 13417,     4,   484,   519,     4,  1186,   203,     4,\n",
       "           1755,   979,     6,     0,     0,     0,     0,     0,     0,\n",
       "              0,     0,     0,     0,     0,     0,     0,     0,     0,\n",
       "              0,     0,     0,     0,     0,     0,     0,     0,     0,\n",
       "              0,     0,     0,     0,     0,     0,     0,     0,     0,\n",
       "              0],\n",
       "         [   44,     5,    14,    42,   101,     4,    16,    35,     5,\n",
       "           1550,  7977,   503,   159,     5,    10,   316,     6,     0,\n",
       "              0,     0,     0,     0,     0,     0,     0,     0,     0,\n",
       "              0,     0,     0,     0,     0,     0,     0,     0,     0,\n",
       "              0,     0,     0,     0,     0,     0,     0,     0,     0,\n",
       "              0,     0,     0,     0,     0,     0,     0,     0,     0,\n",
       "              0],\n",
       "         [  117,    96,   106,     5,     7,     4,    42,   995,    95,\n",
       "            187,   770,     5,   392,     4,  1144,  1061,     6,     0,\n",
       "              0,     0,     0,     0,     0,     0,     0,     0,     0,\n",
       "              0,     0,     0,     0,     0,     0,     0,     0,     0,\n",
       "              0,     0,     0,     0,     0,     0,     0,     0,     0,\n",
       "              0,     0,     0,     0,     0,     0,     0,     0,     0,\n",
       "              0],\n",
       "         [   98,   157,   718,   156,   160,     5,    54,     4,   386,\n",
       "            196,     4,   306,   127,     6,     0,     0,     0,     0,\n",
       "              0,     0,     0,     0,     0,     0,     0,     0,     0,\n",
       "              0,     0,     0,     0,     0,     0,     0,     0,     0,\n",
       "              0,     0,     0,     0,     0,     0,     0,     0,     0,\n",
       "              0,     0,     0,     0,     0,     0,     0,     0,     0,\n",
       "              0]],\n",
       " \n",
       "        [[   42,     4,   281,   652,     5,  1452,    61,     4,   483,\n",
       "            465,     5,   138,  1014,    95,     6,     0,     0,     0,\n",
       "              0,     0,     0,     0,     0,     0,     0,     0,     0,\n",
       "              0,     0,     0,     0,     0,     0,     0,     0,     0,\n",
       "              0,     0,     0,     0,     0,     0,     0,     0,     0,\n",
       "              0,     0,     0,     0,     0,     0,     0,     0,     0,\n",
       "              0],\n",
       "         [  379,   836,  1230,  1398,   881,  2405,   122,     4,    52,\n",
       "             73,     8,   127,     6,     0,     0,     0,     0,     0,\n",
       "              0,     0,     0,     0,     0,     0,     0,     0,     0,\n",
       "              0,     0,     0,     0,     0,     0,     0,     0,     0,\n",
       "              0,     0,     0,     0,     0,     0,     0,     0,     0,\n",
       "              0,     0,     0,     0,     0,     0,     0,     0,     0,\n",
       "              0],\n",
       "         [ 1511, 33843,     8,   215,     4,    18,    26,   789,    51,\n",
       "              5,   112,     4,  1822, 20206,   536,     4,    81,    51,\n",
       "             10,     6,     0,     0,     0,     0,     0,     0,     0,\n",
       "              0,     0,     0,     0,     0,     0,     0,     0,     0,\n",
       "              0,     0,     0,     0,     0,     0,     0,     0,     0,\n",
       "              0,     0,     0,     0,     0,     0,     0,     0,     0,\n",
       "              0],\n",
       "         [    0,     0,     0,     0,     0,     0,     0,     0,     0,\n",
       "              0,     0,     0,     0,     0,     0,     0,     0,     0,\n",
       "              0,     0,     0,     0,     0,     0,     0,     0,     0,\n",
       "              0,     0,     0,     0,     0,     0,     0,     0,     0,\n",
       "              0,     0,     0,     0,     0,     0,     0,     0,     0,\n",
       "              0,     0,     0,     0,     0,     0,     0,     0,     0,\n",
       "              0]]], dtype=int32),\n",
       " 'groups_ids': array([[[5, 7, 6, 3, 1, 2, 4],\n",
       "         [0, 0, 0, 0, 0, 0, 0],\n",
       "         [0, 0, 0, 0, 0, 0, 0],\n",
       "         [0, 0, 0, 0, 0, 0, 0]],\n",
       " \n",
       "        [[3, 1, 0, 0, 0, 0, 0],\n",
       "         [2, 5, 0, 0, 0, 0, 0],\n",
       "         [4, 0, 0, 0, 0, 0, 0],\n",
       "         [0, 0, 0, 0, 0, 0, 0]],\n",
       " \n",
       "        [[5, 2, 0, 0, 0, 0, 0],\n",
       "         [3, 1, 0, 0, 0, 0, 0],\n",
       "         [6, 3, 4, 0, 0, 0, 0],\n",
       "         [8, 7, 0, 0, 0, 0, 0]],\n",
       " \n",
       "        [[1, 0, 0, 0, 0, 0, 0],\n",
       "         [3, 0, 0, 0, 0, 0, 0],\n",
       "         [2, 4, 0, 0, 0, 0, 0],\n",
       "         [0, 0, 0, 0, 0, 0, 0]]], dtype=int32)}"
      ]
     },
     "execution_count": 5,
     "metadata": {},
     "output_type": "execute_result"
    }
   ],
   "source": [
    "data"
   ]
  },
  {
   "cell_type": "code",
   "execution_count": 64,
   "id": "d3ff61b5",
   "metadata": {
    "scrolled": true
   },
   "outputs": [
    {
     "name": "stdout",
     "output_type": "stream",
     "text": [
      "features {\n",
      "  feature {\n",
      "    key: \"cate_id\"\n",
      "    value {\n",
      "      bytes_list {\n",
      "        value: \"\\323\\001\\000\\000\\000\\000\\000\\000\"\n",
      "      }\n",
      "    }\n",
      "  }\n",
      "  feature {\n",
      "    key: \"groups_ids\"\n",
      "    value {\n",
      "      bytes_list {\n",
      "        value: \"\\001\\000\\000\\000\\000\\000\\000\\000\\007\\000\\000\\000\\000\\000\\000\\000\\004\\000\\000\\000\\000\\000\\000\\000\\006\\000\\000\\000\\000\\000\\000\\000\\005\\000\\000\\000\\000\\000\\000\\000\\003\\000\\000\\000\\000\\000\\000\\000\\002\\000\\000\\000\\000\\000\\000\\000\\000\\000\\000\\000\\000\\000\\000\\000\\000\\000\\000\\000\\000\\000\\000\\000\"\n",
      "      }\n",
      "    }\n",
      "  }\n",
      "  feature {\n",
      "    key: \"groups_shape\"\n",
      "    value {\n",
      "      int64_list {\n",
      "        value: 3\n",
      "        value: 3\n",
      "      }\n",
      "    }\n",
      "  }\n",
      "  feature {\n",
      "    key: \"key_input_ids\"\n",
      "    value {\n",
      "      bytes_list {\n",
      "        value: \"\\007\\000\\000\\000\\000\\000\\000\\000\\014\\000\\000\\000\\000\\000\\000\\000\\014\\000\\000\\000\\000\\000\\000\\000\\010\\000\\000\\000\\000\\000\\000\\000\\010\\000\\000\\000\\000\\000\\000\\000\\010\\000\\000\\000\\000\\000\\000\\000\\032\\000\\000\\000\\000\\000\\000\\000\\027\\000\\000\\000\\000\\000\\000\\000\"\n",
      "      }\n",
      "    }\n",
      "  }\n",
      "  feature {\n",
      "    key: \"outputs_ids\"\n",
      "    value {\n",
      "      bytes_list {\n",
      "        value: \"\\003\\000\\000\\000\\000\\000\\000\\000\\203\\004\\000\\000\\000\\000\\000\\000\\214\\000\\000\\000\\000\\000\\000\\000\\345\\000\\000\\000\\000\\000\\000\\000\\004\\000\\000\\000\\000\\000\\000\\000,\\000\\000\\000\\000\\000\\000\\000\\007\\000\\000\\000\\000\\000\\000\\000*\\000\\000\\000\\000\\000\\000\\000\\220\\000\\000\\000\\000\\000\\000\\000\\004\\000\\000\\000\\000\\000\\000\\000\\n\\000\\000\\000\\000\\000\\000\\000\\005\\000\\000\\000\\000\\000\\000\\000\\203\\004\\000\\000\\000\\000\\000\\000\\214\\000\\000\\000\\000\\000\\000\\000[\\000\\000\\000\\000\\000\\000\\000H\\000\\000\\000\\000\\000\\000\\000w\\002\\000\\000\\000\\000\\000\\000\\005\\000\\000\\000\\000\\000\\000\\000\\302\\003\\000\\000\\000\\000\\000\\000\\007\\000\\000\\000\\000\\000\\000\\000\\265\\000\\000\\000\\000\\000\\000\\000\\004\\000\\000\\000\\000\\000\\000\\000\\221\\016\\000\\000\\000\\000\\000\\000\\035\\002\\000\\000\\000\\000\\000\\000r\\020\\000\\000\\000\\000\\000\\000\\005\\000\\000\\000\\000\\000\\000\\000\\371\\007\\000\\000\\000\\000\\000\\000$\\000\\000\\000\\000\\000\\000\\000[\\003\\000\\000\\000\\000\\000\\000\\004\\000\\000\\000\\000\\000\\000\\000\\264\\001\\000\\000\\000\\000\\000\\000(\\001\\000\\000\\000\\000\\000\\000\\265\\000\\000\\000\\000\\000\\000\\000\\006\\000\\000\\000\\000\\000\\000\\000&\\000\\000\\000\\000\\000\\000\\000\\037\\007\\000\\000\\000\\000\\000\\000\\230\\001\\000\\000\\000\\000\\000\\000\\\"\\000\\000\\000\\000\\000\\000\\000\\025\\000\\000\\000\\000\\000\\000\\000{\\003\\000\\000\\000\\000\\000\\000\\005\\000\\000\\000\\000\\000\\000\\000\\243\\000\\000\\000\\000\\000\\000\\000\\037\\000\\000\\000\\000\\000\\000\\000\\004\\000\\000\\000\\000\\000\\000\\000\\024\\000\\000\\000\\000\\000\\000\\000\\005\\000\\000\\000\\000\\000\\000\\000[\\001\\000\\000\\000\\000\\000\\000c\\000\\000\\000\\000\\000\\000\\000%\\000\\000\\000\\000\\000\\000\\000\\323\\000\\000\\000\\000\\000\\000\\000\\344\\000\\000\\000\\000\\000\\000\\000\\004\\000\\000\\000\\000\\000\\000\\000q\\000\\000\\000\\000\\000\\000\\000;\\000\\000\\000\\000\\000\\000\\000\\030\\000\\000\\000\\000\\000\\000\\000\\024\\000\\000\\000\\000\\000\\000\\000\\006\\000\\000\\000\\000\\000\\000\\000\\000\\000\\000\\000\\000\\000\\000\\000\\000\\000\\000\\000\\000\\000\\000\\000\\000\\000\\000\\000\\000\\000\\000\\000\\000\\000\\000\\000\\000\\000\\000\\000\\000\\000\\000\\000\\000\\000\\000\\000\\000\\000\\000\\000\\000\\000\\000\\000\\000\\000\\000\\000\\000\\000\\000\\000\\000\\000\\000\\000\\000\\000\\000\\000\\000\\000\\000\\000\\000\\000\\000\\000\\000\\000\\000\\000\\000\\000\\000\\000\\000\\000\\000\\000\\000\\000\\000\\000M\\r\\000\\000\\000\\000\\000\\000\\007\\000\\000\\000\\000\\000\\000\\000\\224\\000\\000\\000\\000\\000\\000\\000_\\004\\000\\000\\000\\000\\000\\000\\004\\000\\000\\000\\000\\000\\000\\000\\022\\000\\000\\000\\000\\000\\000\\000!\\000\\000\\000\\000\\000\\000\\000\\023\\005\\000\\000\\000\\000\\000\\000P\\003\\000\\000\\000\\000\\000\\000\\021\\002\\000\\000\\000\\000\\000\\000\\005\\000\\000\\000\\000\\000\\000\\000;\\000\\000\\000\\000\\000\\000\\000\\310\\002\\000\\000\\000\\000\\000\\000\\006\\000\\000\\000\\000\\000\\000\\000\\000\\000\\000\\000\\000\\000\\000\\000\\000\\000\\000\\000\\000\\000\\000\\000\\000\\000\\000\\000\\000\\000\\000\\000\\000\\000\\000\\000\\000\\000\\000\\000\\000\\000\\000\\000\\000\\000\\000\\000\\000\\000\\000\\000\\000\\000\\000\\000\\000\\000\\000\\000\\000\\000\\000\\000\\000\\000\\000\\000\\000\\000\\000\\000\\000\\000\\000\\000\\000\\000\\000\\000\\000\\000\\000\\000\\000\\000\\000\\000\\000\\000\\000\\000\\000\\000\\000\\000\\000\\000\\000\\000\\000\\000\\000\\000\\000\\000\\000\\000\\000\\000\\000\\000\\000\\000\\000\\000\\000\\000\\000\\000\\000\\000\\000\\000\\000\\000\\000\\000\\000\\000\\000\\000\\000\\000\\000\\000\\000\\000\\000\\000\\000\\000\\000\\000\\000\\000\\000\\000\\000\\000\\000\\000\\000\\000\\000\\000\\000\\000\\000\\000\\000\\000\\000\\000\\000\\000\\000\\000\"\n",
      "      }\n",
      "    }\n",
      "  }\n",
      "  feature {\n",
      "    key: \"text_ids\"\n",
      "    value {\n",
      "      bytes_list {\n",
      "        value: \"\\003\\000\\000\\000\\000\\000\\000\\000\\203\\004\\000\\000\\000\\000\\000\\000\\214\\000\\000\\000\\000\\000\\000\\000\\345\\000\\000\\000\\000\\000\\000\\000\\004\\000\\000\\000\\000\\000\\000\\000,\\000\\000\\000\\000\\000\\000\\000\\007\\000\\000\\000\\000\\000\\000\\000*\\000\\000\\000\\000\\000\\000\\000\\220\\000\\000\\000\\000\\000\\000\\000\\004\\000\\000\\000\\000\\000\\000\\000\\n\\000\\000\\000\\000\\000\\000\\000\\005\\000\\000\\000\\000\\000\\000\\000\\203\\004\\000\\000\\000\\000\\000\\000\\214\\000\\000\\000\\000\\000\\000\\000[\\000\\000\\000\\000\\000\\000\\000H\\000\\000\\000\\000\\000\\000\\000w\\002\\000\\000\\000\\000\\000\\000\\005\\000\\000\\000\\000\\000\\000\\000\\302\\003\\000\\000\\000\\000\\000\\000\\007\\000\\000\\000\\000\\000\\000\\000\\265\\000\\000\\000\\000\\000\\000\\000\\004\\000\\000\\000\\000\\000\\000\\000\\221\\016\\000\\000\\000\\000\\000\\000\\035\\002\\000\\000\\000\\000\\000\\000r\\020\\000\\000\\000\\000\\000\\000\\005\\000\\000\\000\\000\\000\\000\\000\\371\\007\\000\\000\\000\\000\\000\\000$\\000\\000\\000\\000\\000\\000\\000[\\003\\000\\000\\000\\000\\000\\000\\004\\000\\000\\000\\000\\000\\000\\000\\264\\001\\000\\000\\000\\000\\000\\000(\\001\\000\\000\\000\\000\\000\\000\\265\\000\\000\\000\\000\\000\\000\\000\\006\\000\\000\\000\\000\\000\\000\\000&\\000\\000\\000\\000\\000\\000\\000\\037\\007\\000\\000\\000\\000\\000\\000\\230\\001\\000\\000\\000\\000\\000\\000\\\"\\000\\000\\000\\000\\000\\000\\000\\025\\000\\000\\000\\000\\000\\000\\000{\\003\\000\\000\\000\\000\\000\\000\\005\\000\\000\\000\\000\\000\\000\\000\\243\\000\\000\\000\\000\\000\\000\\000\\037\\000\\000\\000\\000\\000\\000\\000\\004\\000\\000\\000\\000\\000\\000\\000\\024\\000\\000\\000\\000\\000\\000\\000\\005\\000\\000\\000\\000\\000\\000\\000[\\001\\000\\000\\000\\000\\000\\000c\\000\\000\\000\\000\\000\\000\\000%\\000\\000\\000\\000\\000\\000\\000\\323\\000\\000\\000\\000\\000\\000\\000\\344\\000\\000\\000\\000\\000\\000\\000\\004\\000\\000\\000\\000\\000\\000\\000q\\000\\000\\000\\000\\000\\000\\000;\\000\\000\\000\\000\\000\\000\\000\\030\\000\\000\\000\\000\\000\\000\\000\\024\\000\\000\\000\\000\\000\\000\\000\\006\\000\\000\\000\\000\\000\\000\\000M\\r\\000\\000\\000\\000\\000\\000\\007\\000\\000\\000\\000\\000\\000\\000\\224\\000\\000\\000\\000\\000\\000\\000_\\004\\000\\000\\000\\000\\000\\000\\004\\000\\000\\000\\000\\000\\000\\000\\022\\000\\000\\000\\000\\000\\000\\000!\\000\\000\\000\\000\\000\\000\\000\\023\\005\\000\\000\\000\\000\\000\\000P\\003\\000\\000\\000\\000\\000\\000\\021\\002\\000\\000\\000\\000\\000\\000\\005\\000\\000\\000\\000\\000\\000\\000;\\000\\000\\000\\000\\000\\000\\000\\310\\002\\000\\000\\000\\000\\000\\000\\006\\000\\000\\000\\000\\000\\000\\000\"\n",
      "      }\n",
      "    }\n",
      "  }\n",
      "  feature {\n",
      "    key: \"val_input_ids\"\n",
      "    value {\n",
      "      bytes_list {\n",
      "        value: \"\\323\\001\\000\\000\\000\\000\\000\\000\\357\\000\\000\\000\\000\\000\\000\\000\\331\\000\\000\\000\\000\\000\\000\\000l\\000\\000\\000\\000\\000\\000\\000\\214\\000\\000\\000\\000\\000\\000\\000\\203\\000\\000\\000\\000\\000\\000\\000\\322\\001\\000\\000\\000\\000\\000\\000\\260\\001\\000\\000\\000\\000\\000\\000\"\n",
      "      }\n",
      "    }\n",
      "  }\n",
      "}\n",
      "\n",
      "features {\n",
      "  feature {\n",
      "    key: \"cate_id\"\n",
      "    value {\n",
      "      bytes_list {\n",
      "        value: \"g\\000\\000\\000\\000\\000\\000\\000\"\n",
      "      }\n",
      "    }\n",
      "  }\n",
      "  feature {\n",
      "    key: \"groups_ids\"\n",
      "    value {\n",
      "      bytes_list {\n",
      "        value: \"\\004\\000\\000\\000\\000\\000\\000\\000\\000\\000\\000\\000\\000\\000\\000\\000\\002\\000\\000\\000\\000\\000\\000\\000\\003\\000\\000\\000\\000\\000\\000\\000\\001\\000\\000\\000\\000\\000\\000\\000\\000\\000\\000\\000\\000\\000\\000\\000\"\n",
      "      }\n",
      "    }\n",
      "  }\n",
      "  feature {\n",
      "    key: \"groups_shape\"\n",
      "    value {\n",
      "      int64_list {\n",
      "        value: 3\n",
      "        value: 2\n",
      "      }\n",
      "    }\n",
      "  }\n",
      "  feature {\n",
      "    key: \"key_input_ids\"\n",
      "    value {\n",
      "      bytes_list {\n",
      "        value: \"\\007\\000\\000\\000\\000\\000\\000\\000\\002\\000\\000\\000\\000\\000\\000\\000\\014\\000\\000\\000\\000\\000\\000\\000\\010\\000\\000\\000\\000\\000\\000\\000\\004\\000\\000\\000\\000\\000\\000\\000\"\n",
      "      }\n",
      "    }\n",
      "  }\n",
      "  feature {\n",
      "    key: \"outputs_ids\"\n",
      "    value {\n",
      "      bytes_list {\n",
      "        value: \"\\014\\000\\000\\000\\000\\000\\000\\000\\017\\000\\000\\000\\000\\000\\000\\000\\253\\000\\000\\000\\000\\000\\000\\000N\\000\\000\\000\\000\\000\\000\\000.\\000\\000\\000\\000\\000\\000\\000\\005\\000\\000\\000\\000\\000\\000\\000~\\001\\000\\000\\000\\000\\000\\000\\004\\000\\000\\000\\000\\000\\000\\000O\\003\\000\\000\\000\\000\\000\\000\\230\\000\\000\\000\\000\\000\\000\\000\\004\\000\\000\\000\\000\\000\\000\\000)\\002\\000\\000\\000\\000\\000\\000J\\001\\000\\000\\000\\000\\000\\000\\253\\000\\000\\000\\000\\000\\000\\000\\010\\000\\000\\000\\000\\000\\000\\000\\007\\000\\000\\000\\000\\000\\000\\000\\t\\000\\000\\000\\000\\000\\000\\000\\006\\000\\000\\000\\000\\000\\000\\000\\315\\033\\000\\000\\000\\000\\000\\000\\005\\000\\000\\000\\000\\000\\000\\000X\\013\\000\\000\\000\\000\\000\\000\\215\\000\\000\\000\\000\\000\\000\\000f\\031\\000\\000\\000\\000\\000\\000\\004\\000\\000\\000\\000\\000\\000\\000C\\000\\000\\000\\000\\000\\000\\000\\013\\000\\000\\000\\000\\000\\000\\000\\272\\000\\000\\000\\000\\000\\000\\000Y\\000\\000\\000\\000\\000\\000\\000\\005\\000\\000\\000\\000\\000\\000\\000^\\000\\000\\000\\000\\000\\000\\000\\006\\000\\000\\000\\000\\000\\000\\000\\000\\000\\000\\000\\000\\000\\000\\000\\000\\000\\000\\000\\000\\000\\000\\000\\000\\000\\000\\000\\000\\000\\000\\000\\000\\000\\000\\000\\000\\000\\000\\000\\000\\000\\000\\000\\000\\000\\000\\000#\\000\\000\\000\\000\\000\\000\\000\\005\\000\\000\\000\\000\\000\\000\\000\\016\\000\\000\\000\\000\\000\\000\\000\\033\\000\\000\\000\\000\\000\\000\\000\\022\\000\\000\\000\\000\\000\\000\\000G\\000\\000\\000\\000\\000\\000\\000-\\002\\000\\000\\000\\000\\000\\0003\\000\\000\\000\\000\\000\\000\\000\\227\\000\\000\\000\\000\\000\\000\\000\\004\\000\\000\\000\\000\\000\\000\\000\\\"\\000\\000\\000\\000\\000\\000\\000\\025\\000\\000\\000\\000\\000\\000\\000@\\003\\000\\000\\000\\000\\000\\000\\006\\000\\000\\000\\000\\000\\000\\000\\000\\000\\000\\000\\000\\000\\000\\000\\000\\000\\000\\000\\000\\000\\000\\000\\000\\000\\000\\000\\000\\000\\000\\000\\000\\000\\000\\000\\000\\000\\000\\000\"\n",
      "      }\n",
      "    }\n",
      "  }\n",
      "  feature {\n",
      "    key: \"text_ids\"\n",
      "    value {\n",
      "      bytes_list {\n",
      "        value: \"\\014\\000\\000\\000\\000\\000\\000\\000\\017\\000\\000\\000\\000\\000\\000\\000\\253\\000\\000\\000\\000\\000\\000\\000N\\000\\000\\000\\000\\000\\000\\000.\\000\\000\\000\\000\\000\\000\\000\\005\\000\\000\\000\\000\\000\\000\\000~\\001\\000\\000\\000\\000\\000\\000\\004\\000\\000\\000\\000\\000\\000\\000O\\003\\000\\000\\000\\000\\000\\000\\230\\000\\000\\000\\000\\000\\000\\000\\004\\000\\000\\000\\000\\000\\000\\000)\\002\\000\\000\\000\\000\\000\\000J\\001\\000\\000\\000\\000\\000\\000\\253\\000\\000\\000\\000\\000\\000\\000\\010\\000\\000\\000\\000\\000\\000\\000\\007\\000\\000\\000\\000\\000\\000\\000\\t\\000\\000\\000\\000\\000\\000\\000\\006\\000\\000\\000\\000\\000\\000\\000\\315\\033\\000\\000\\000\\000\\000\\000\\005\\000\\000\\000\\000\\000\\000\\000X\\013\\000\\000\\000\\000\\000\\000\\215\\000\\000\\000\\000\\000\\000\\000f\\031\\000\\000\\000\\000\\000\\000\\004\\000\\000\\000\\000\\000\\000\\000C\\000\\000\\000\\000\\000\\000\\000\\013\\000\\000\\000\\000\\000\\000\\000\\272\\000\\000\\000\\000\\000\\000\\000Y\\000\\000\\000\\000\\000\\000\\000\\005\\000\\000\\000\\000\\000\\000\\000^\\000\\000\\000\\000\\000\\000\\000\\006\\000\\000\\000\\000\\000\\000\\000z\\002\\000\\000\\000\\000\\000\\000\\005\\000\\000\\000\\000\\000\\000\\000\\340\\000\\000\\000\\000\\000\\000\\000\\004\\000\\000\\000\\000\\000\\000\\000l\\001\\000\\000\\000\\000\\000\\000K\\000\\000\\000\\000\\000\\000\\000Y\\002\\000\\000\\000\\000\\000\\000\\005\\000\\000\\000\\000\\000\\000\\000m\\004\\000\\000\\000\\000\\000\\000\\004\\000\\000\\000\\000\\000\\000\\000\\333\\000\\000\\000\\000\\000\\000\\000\\342\\000\\000\\000\\000\\000\\000\\000\\253\\002\\000\\000\\000\\000\\000\\000\\376\\010\\000\\000\\000\\000\\000\\000\\237\\t\\000\\000\\000\\000\\000\\000\\002\\002\\000\\000\\000\\000\\000\\000\\005\\000\\000\\000\\000\\000\\000\\000?\\002\\000\\000\\000\\000\\000\\000\\004\\000\\000\\000\\000\\000\\000\\000\\373\\003\\000\\000\\000\\000\\000\\0002\\000\\000\\000\\000\\000\\000\\000\\221\\027\\000\\000\\000\\000\\000\\000\\231\\001\\000\\000\\000\\000\\000\\000Z\\000\\000\\000\\000\\000\\000\\000?\\001\\000\\000\\000\\000\\000\\000\\005\\000\\000\\000\\000\\000\\000\\000\\211\\001\\000\\000\\000\\000\\000\\000\\032\\000\\000\\000\\000\\000\\000\\000\\201\\000\\000\\000\\000\\000\\000\\000\\006\\000\\000\\000\\000\\000\\000\\000#\\000\\000\\000\\000\\000\\000\\000\\005\\000\\000\\000\\000\\000\\000\\000\\016\\000\\000\\000\\000\\000\\000\\000\\033\\000\\000\\000\\000\\000\\000\\000\\022\\000\\000\\000\\000\\000\\000\\000G\\000\\000\\000\\000\\000\\000\\000-\\002\\000\\000\\000\\000\\000\\0003\\000\\000\\000\\000\\000\\000\\000\\227\\000\\000\\000\\000\\000\\000\\000\\004\\000\\000\\000\\000\\000\\000\\000\\\"\\000\\000\\000\\000\\000\\000\\000\\025\\000\\000\\000\\000\\000\\000\\000@\\003\\000\\000\\000\\000\\000\\000\\006\\000\\000\\000\\000\\000\\000\\000\"\n",
      "      }\n",
      "    }\n",
      "  }\n",
      "  feature {\n",
      "    key: \"val_input_ids\"\n",
      "    value {\n",
      "      bytes_list {\n",
      "        value: \"g\\000\\000\\000\\000\\000\\000\\000\\004\\000\\000\\000\\000\\000\\000\\000\\336\\000\\000\\000\\000\\000\\000\\000\\336\\000\\000\\000\\000\\000\\000\\000>\\000\\000\\000\\000\\000\\000\\000\"\n",
      "      }\n",
      "    }\n",
      "  }\n",
      "}\n",
      "\n"
     ]
    }
   ],
   "source": [
    " for example in tf.io.tf_record_iterator(\"checkpoints/data2text/train.tf_record\"):  \n",
    "        print(tf.train.Example.FromString(example))  "
   ]
  },
  {
   "cell_type": "markdown",
   "id": "9c0d0be7",
   "metadata": {},
   "source": [
    "## 统计不同类型下的feature，方便用户的选择"
   ]
  },
  {
   "cell_type": "code",
   "execution_count": 13,
   "id": "c9613d52",
   "metadata": {},
   "outputs": [
    {
     "name": "stderr",
     "output_type": "stream",
     "text": [
      "评论数据: 100%|\u001b[32m██████████\u001b[0m| 114599/114599 [00:01<00:00, 59117.21it/s]\n"
     ]
    }
   ],
   "source": [
    "import json\n",
    "import os\n",
    "import re\n",
    "import sys\n",
    "\n",
    "import jieba\n",
    "from tqdm import tqdm\n",
    "import pandas as pd\n",
    "\n",
    "root_dir = \"data/data2text/train_bk.json\"\n",
    "    \n",
    "# {\n",
    "#     \"feature\": [[\"版型\", \"显瘦\"], [\"颜色\", \"灰色\"], [\"衣样式\", \"风衣\"], [\"衣样式\", \"外套\"], [\"衣袖型\", \"插肩袖\"], [\"衣门襟\", \"单排扣\"]], \n",
    "#     \"title\": \"\", \n",
    "#     \"largeSrc\": \"http://gw.alicdn.com/imgextra/i2/87171848/TB2BKKiahuTBuNkHFNRXXc9qpXa_!!87171848-2-daren.png_790x10000.jpg\", \n",
    "#     \"refSrc\": \"https://market.m.taobao.com/apps/market/content/index.html?&contentId=200550500064\", \n",
    "#     \"desc\": \"设计亮点这款中长款式的风衣外套，修身直筒的版型不仅仅穿着随意舒适，还能够轻松修饰身体轮廓更添高挑大气。时髦的插肩袖设计，也丰富了整体的层次感。衣门襟采用单排扣设计，显得厚实不失质感，很是吸引人的眼球。选用灰色调装饰，搭配起来也比较方便。\", \n",
    "#     \"file\": \"c0974de49d2bcf5cd49e1bb679f56d2c.jpg\"\n",
    "# }\n",
    "\n",
    "features = {}\n",
    "\n",
    "pants = {}\n",
    "cloth = {}\n",
    "dress = {}\n",
    "\n",
    "with open(root_dir, \"r\") as fr:\n",
    "    for line in tqdm(fr.readlines(), desc=\"评论数据\", colour=\"green\"):\n",
    "        tmp = json.loads(line)\n",
    "        feat = tmp[\"feature\"]\n",
    "#         for item in feat:\n",
    "#             if item[0] == '类型':\n",
    "#                 lx = item[1]\n",
    "        if feat[0][1] == '裤':\n",
    "            for item in feat:\n",
    "                if item[0] in pants.keys():\n",
    "                    pants[item[0]].add(item[1])\n",
    "                else:\n",
    "                    pants[item[0]] = set(item[1])\n",
    "        elif feat[0][1] == '上衣':\n",
    "            for item in feat:\n",
    "                if item[0] in cloth.keys():\n",
    "                    cloth[item[0]].add(item[1])\n",
    "                else:\n",
    "                    cloth[item[0]] = set(item[1])\n",
    "        else:\n",
    "            for item in feat:\n",
    "                if item[0] in dress.keys():\n",
    "                    dress[item[0]].add(item[1])\n",
    "                else:\n",
    "                    dress[item[0]] = set(item[1])"
   ]
  },
  {
   "cell_type": "code",
   "execution_count": 18,
   "id": "f4b2ee16",
   "metadata": {},
   "outputs": [
    {
     "data": {
      "text/plain": [
       "{'类型': {'裤'},\n",
       " '版型': {'h', '宽', '宽松', '显瘦', '松', '立体剪裁'},\n",
       " '风格': {'ol',\n",
       "  '中国风',\n",
       "  '休闲',\n",
       "  '原创设计',\n",
       "  '商务绅士',\n",
       "  '嘻哈',\n",
       "  '复古',\n",
       "  '宫廷',\n",
       "  '居家',\n",
       "  '工装',\n",
       "  '性',\n",
       "  '性感',\n",
       "  '感',\n",
       "  '摇滚',\n",
       "  '文艺',\n",
       "  '日系',\n",
       "  '朋克',\n",
       "  '欧美',\n",
       "  '民族风',\n",
       "  '淑女',\n",
       "  '清新',\n",
       "  '潮',\n",
       "  '瑞丽',\n",
       "  '知性',\n",
       "  '简约',\n",
       "  '职场',\n",
       "  '英伦',\n",
       "  '街头',\n",
       "  '运动',\n",
       "  '通勤',\n",
       "  '青春',\n",
       "  '韩版',\n",
       "  '高贵'},\n",
       " '图案': {'亮面',\n",
       "  '人物',\n",
       "  '几何',\n",
       "  '创意',\n",
       "  '刺绣',\n",
       "  '动物',\n",
       "  '千鸟格',\n",
       "  '卡通',\n",
       "  '印花',\n",
       "  '圆点',\n",
       "  '复古',\n",
       "  '大花',\n",
       "  '字母',\n",
       "  '小熊',\n",
       "  '建筑',\n",
       "  '形状',\n",
       "  '心形',\n",
       "  '恶魔',\n",
       "  '手绘',\n",
       "  '抽象',\n",
       "  '拼色',\n",
       "  '搞怪',\n",
       "  '撞色',\n",
       "  '文字',\n",
       "  '斑马纹',\n",
       "  '条',\n",
       "  '条纹',\n",
       "  '格子',\n",
       "  '植物',\n",
       "  '波点',\n",
       "  '渐变',\n",
       "  '环保',\n",
       "  '电影',\n",
       "  '碎花',\n",
       "  '纯色',\n",
       "  '线',\n",
       "  '线条',\n",
       "  '绘画',\n",
       "  '色块',\n",
       "  '花色',\n",
       "  '菱形',\n",
       "  '蕾丝',\n",
       "  '蝴蝶结',\n",
       "  '豹纹',\n",
       "  '迷彩',\n",
       "  '音乐',\n",
       "  '风景',\n",
       "  '骷髅'},\n",
       " '裤型': {'哈伦裤', '垮裤', '灯笼裤', '直筒裤', '背带裤', '腿', '裤', '连衣裤', '铅笔裤', '阔', '阔腿裤'},\n",
       " '材质': {'丝绒',\n",
       "  '亚麻',\n",
       "  '仔',\n",
       "  '天丝',\n",
       "  '布',\n",
       "  '斜纹',\n",
       "  '棉',\n",
       "  '棉麻',\n",
       "  '水洗',\n",
       "  '涤纶',\n",
       "  '混纺',\n",
       "  '牛',\n",
       "  '牛仔布',\n",
       "  '纤维',\n",
       "  '绸缎',\n",
       "  '网纱',\n",
       "  '羊毛',\n",
       "  '羊绒',\n",
       "  '莱卡',\n",
       "  '蕾丝',\n",
       "  '蚕丝',\n",
       "  '西装面料',\n",
       "  '针织',\n",
       "  '雪纺'},\n",
       " '颜色': {'亮黄色',\n",
       "  '军绿色',\n",
       "  '卡其色',\n",
       "  '墨绿色',\n",
       "  '姜黄色',\n",
       "  '宝蓝色',\n",
       "  '杏色',\n",
       "  '浅灰色',\n",
       "  '浅绿色',\n",
       "  '浅色',\n",
       "  '浅蓝色',\n",
       "  '淡蓝色',\n",
       "  '深',\n",
       "  '深色',\n",
       "  '深蓝色',\n",
       "  '灰绿色',\n",
       "  '灰色',\n",
       "  '焦糖色',\n",
       "  '玫瑰金色',\n",
       "  '白色',\n",
       "  '米白色',\n",
       "  '粉红色',\n",
       "  '粉色',\n",
       "  '紫色',\n",
       "  '红色',\n",
       "  '纯色',\n",
       "  '绿色',\n",
       "  '肉色',\n",
       "  '色',\n",
       "  '蓝',\n",
       "  '蓝紫色',\n",
       "  '蓝色',\n",
       "  '薄荷绿色',\n",
       "  '藏蓝色',\n",
       "  '裸色',\n",
       "  '迷彩色',\n",
       "  '酒红色',\n",
       "  '金色',\n",
       "  '银色',\n",
       "  '香芋紫色',\n",
       "  '驼色',\n",
       "  '黄色',\n",
       "  '黑白',\n",
       "  '黑色'},\n",
       " '裤腰型': {'中腰', '低腰', '宽松腰', '松紧腰', '腰', '自然腰', '高', '高腰'},\n",
       " '裤口': {'卷边', '喇', '小脚', '开叉', '微', '微喇裤', '毛边', '翻折', '裤'},\n",
       " '裤款式': {'不对称',\n",
       "  '不规则',\n",
       "  '亮丝',\n",
       "  '亮片',\n",
       "  '勾花镂空',\n",
       "  '口袋',\n",
       "  '扎染',\n",
       "  '扣',\n",
       "  '抽绳',\n",
       "  '抽褶',\n",
       "  '拉链',\n",
       "  '拼接',\n",
       "  '木耳边',\n",
       "  '松紧带',\n",
       "  '波浪',\n",
       "  '流苏',\n",
       "  '盘扣',\n",
       "  '破洞',\n",
       "  '立体装饰',\n",
       "  '纱网',\n",
       "  '纽',\n",
       "  '纽扣',\n",
       "  '绑带',\n",
       "  '螺纹',\n",
       "  '钉珠',\n",
       "  '链条',\n",
       "  '镶钻',\n",
       "  '飘带'},\n",
       " '裤长': {'七分裤', '九分裤', '五分裤', '八分裤', '短', '短裤', '裤', '连体裤', '长裤'}}"
      ]
     },
     "execution_count": 18,
     "metadata": {},
     "output_type": "execute_result"
    }
   ],
   "source": [
    "pants"
   ]
  },
  {
   "cell_type": "code",
   "execution_count": null,
   "id": "d773ff62",
   "metadata": {},
   "outputs": [],
   "source": [
    "{'datas': [{'key': \"\", 'val': \"\"}]}"
   ]
  },
  {
   "cell_type": "code",
   "execution_count": 26,
   "id": "cb6c60ac",
   "metadata": {},
   "outputs": [],
   "source": [
    "datas = []\n",
    "for k, v in dress.items():\n",
    "    tmp = {'key': k,\n",
    "            'val': [i for i in v]}\n",
    "    datas.append(tmp)"
   ]
  },
  {
   "cell_type": "code",
   "execution_count": 27,
   "id": "7b11ad33",
   "metadata": {},
   "outputs": [
    {
     "data": {
      "text/plain": [
       "'{\"datas\": [{\"key\": \"类型\", \"val\": [\"裙\"]}, {\"key\": \"风格\", \"val\": [\"潮\", \"宫廷\", \"复古\", \"知性\", \"民族风\", \"清新\", \"乡村\", \"青春\", \"朋克\", \"街头\", \"简约\", \"简\", \"淑女\", \"欧美\", \"文艺\", \"ol\", \"休闲\", \"通勤\", \"嘻哈\", \"日系\", \"约\", \"工装\", \"职场\", \"英伦\", \"性感\", \"摇滚\", \"韩版\", \"瑞丽\", \"中国风\", \"运动\", \"高贵\", \"居家\", \"原创设计\"]}, {\"key\": \"图案\", \"val\": [\"碎花\", \"电影\", \"圆点\", \"复古\", \"骷髅\", \"印花\", \"亮面\", \"几何\", \"刺绣\", \"拼色\", \"文字\", \"撞色\", \"小熊\", \"渐变\", \"动物\", \"蝴蝶结\", \"风景\", \"心形\", \"手绘\", \"条\", \"字母\", \"波点\", \"音乐\", \"植物\", \"蕾丝\", \"大花\", \"千鸟格\", \"搞怪\", \"恶魔\", \"线条\", \"豹纹\", \"形状\", \"绘画\", \"色块\", \"卡通\", \"迷彩\", \"环保\", \"斑马纹\", \"条纹\", \"建筑\", \"创意\", \"抽象\", \"人物\", \"花色\", \"纹\", \"格子\", \"菱形\", \"纯色\"]}, {\"key\": \"裙型\", \"val\": [\"裙\", \"伞裙\", \"公主裙\", \"仙女裙\", \"a字\", \"网纱裙\", \"尾\", \"蓬蓬裙\", \"小黑裙\", \"包臀裙\", \"铅笔裙\", \"蛋糕\", \"背带裙\", \"花苞裙\", \"大裙摆\", \"百褶\", \"抹胸裙\", \"衬衫裙\", \"一步裙\", \"拼接裙\", \"直筒裙\", \"鱼尾裙\", \"鱼\", \"灯笼裙\", \"西装裙\", \"牛仔裙\"]}, {\"key\": \"裙袖长\", \"val\": [\"短袖\", \"袖\", \"无袖\", \"无\", \"长袖\", \"五分袖\", \"七分袖\", \"九分袖\"]}, {\"key\": \"版型\", \"val\": [\"h\", \"宽\", \"宽松\", \"松\", \"立体剪裁\", \"显瘦\"]}, {\"key\": \"材质\", \"val\": [\"网纱\", \"牛仔布\", \"雪纺\", \"蚕丝\", \"棉\", \"棉麻\", \"绸缎\", \"天丝\", \"水洗\", \"丝绒\", \"雪\", \"针织\", \"莱卡\", \"蕾丝\", \"涤纶\", \"羊绒\", \"亚麻\", \"斜纹\", \"羊毛\", \"混纺\", \"纤维\", \"纺\", \"西装面料\"]}, {\"key\": \"裙长\", \"val\": [\"中长裙\", \"中裙\", \"裙\", \"超短裙\", \"短裙\", \"衣\", \"长裙\", \"连\", \"半身裙\", \"不过膝\", \"连衣裙\"]}, {\"key\": \"颜色\", \"val\": [\"淡蓝色\", \"薄荷绿色\", \"迷彩色\", \"焦糖色\", \"白色\", \"灰绿色\", \"浅蓝色\", \"粉\", \"卡其色\", \"杏色\", \"深色\", \"浅绿色\", \"浅色\", \"黑白\", \"酒红色\", \"紫色\", \"灰色\", \"裸色\", \"红\", \"深蓝色\", \"米白色\", \"绿色\", \"墨绿色\", \"粉红色\", \"驼色\", \"姜黄色\", \"宝蓝色\", \"玫瑰金色\", \"蓝色\", \"黑色\", \"藏蓝色\", \"香芋紫色\", \"黄色\", \"金色\", \"肉色\", \"色\", \"军绿色\", \"浅灰色\", \"粉色\", \"亮黄色\", \"纯色\", \"银色\", \"红色\", \"蓝紫色\"]}, {\"key\": \"裙腰型\", \"val\": [\"低腰\", \"腰\", \"自然腰\", \"中腰\", \"宽松腰\", \"松紧腰\", \"高\", \"高腰\"]}, {\"key\": \"裙领型\", \"val\": [\"领\", \"圆领\", \"高领\", \"一字领\", \"围巾领\", \"海军领\", \"圆\", \"立领\", \"半开领\", \"翻领\", \"娃娃领\", \"polo领\", \"双层领\", \"方领\", \"堆堆领\", \"西装领\", \"荷叶领\", \"尖领\", \"斜领\", \"v领\", \"半高领\"]}, {\"key\": \"裙款式\", \"val\": [\"纽扣\", \"链\", \"不规则\", \"螺纹\", \"勾花镂空\", \"露背\", \"流苏\", \"亮片\", \"镶钻\", \"拼接\", \"盘扣\", \"波浪\", \"链条\", \"对称\", \"亮丝\", \"钉珠\", \"连帽\", \"条\", \"飘带\", \"抽褶\", \"收腰\", \"吊带\", \"不对称\", \"扎花\", \"腰带\", \"绑带\", \"露肩\", \"拉链\", \"衬衫式\", \"木耳边\", \"木耳\", \"抽绳\", \"扎染\", \"口袋\", \"立体装饰\", \"破洞\", \"燕尾\", \"松紧带\"]}, {\"key\": \"裙衣门襟\", \"val\": [\"双排扣\", \"无扣\", \"单\", \"排扣\", \"单排两粒扣\", \"系带\", \"暗扣\", \"排\", \"单排多扣\", \"扣\", \"三粒扣\", \"单排扣\", \"一粒扣\", \"拉链\", \"套头\"]}, {\"key\": \"裙下摆\", \"val\": [\"边\", \"花边\", \"垂坠\", \"层叠\", \"开叉\", \"弧形\", \"毛\", \"毛边\", \"压褶\", \"荷叶边\"]}, {\"key\": \"裙袖型\", \"val\": [\"荷叶袖\", \"蝙蝠袖\", \"衬衫袖\", \"堆堆袖\", \"袖\", \"公主袖\", \"插肩袖\", \"包袖\", \"喇叭袖\", \"泡泡袖\", \"连袖\", \"飞飞袖\", \"收口\", \"灯笼袖\", \"笼\", \"灯\", \"花瓣袖\"]}, {\"key\": \"裙衣长\", \"val\": [\"短款\", \"常规\", \"中\", \"超短款\", \"长\", \"中长款\", \"款\"]}]}'"
      ]
     },
     "execution_count": 27,
     "metadata": {},
     "output_type": "execute_result"
    }
   ],
   "source": [
    "import json\n",
    "json.dumps({'datas': datas}, ensure_ascii=False)"
   ]
  },
  {
   "cell_type": "code",
   "execution_count": null,
   "id": "d8c3e1a5",
   "metadata": {},
   "outputs": [],
   "source": []
  }
 ],
 "metadata": {
  "colab": {
   "collapsed_sections": [
    "b66431e5",
    "7843d41c"
   ],
   "name": "data_analysis.ipynb",
   "provenance": []
  },
  "kernelspec": {
   "display_name": "Python 3",
   "language": "python",
   "name": "python3"
  },
  "language_info": {
   "codemirror_mode": {
    "name": "ipython",
    "version": 3
   },
   "file_extension": ".py",
   "mimetype": "text/x-python",
   "name": "python",
   "nbconvert_exporter": "python",
   "pygments_lexer": "ipython3",
   "version": "3.6.13"
  },
  "toc": {
   "base_numbering": 1,
   "nav_menu": {},
   "number_sections": true,
   "sideBar": true,
   "skip_h1_title": false,
   "title_cell": "Table of Contents",
   "title_sidebar": "Contents",
   "toc_cell": false,
   "toc_position": {},
   "toc_section_display": true,
   "toc_window_display": false
  }
 },
 "nbformat": 4,
 "nbformat_minor": 5
}
